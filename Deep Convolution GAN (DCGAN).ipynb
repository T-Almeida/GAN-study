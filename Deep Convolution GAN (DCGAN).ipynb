{
 "cells": [
  {
   "cell_type": "markdown",
   "metadata": {},
   "source": [
    "# Deep Convolution Generative Advarsarial Network\n",
    "\n",
    "Here is presented the implementation of the following parper https://arxiv.org/abs/1511.06434\n",
    "\n",
    "Implementation is done in tensorflow using layers API\n",
    "\n",
    "Created by: Tiago Almeida 05/02/2018\n"
   ]
  },
  {
   "cell_type": "code",
   "execution_count": 1,
   "metadata": {},
   "outputs": [
    {
     "data": {
      "text/plain": [
       "'1.4.0'"
      ]
     },
     "execution_count": 1,
     "metadata": {},
     "output_type": "execute_result"
    }
   ],
   "source": [
    "##### imports\n",
    "import tensorflow as tf\n",
    "%matplotlib inline\n",
    "import matplotlib.pyplot as plt\n",
    "import tensorflow as tf\n",
    "import numpy as np\n",
    "import os\n",
    "import utils as ut # auxiliar file to help in data visualization\n",
    "\n",
    "#tensorflow version when notebook was created - 1.4.0\n",
    "tf.__version__\n"
   ]
  },
  {
   "cell_type": "markdown",
   "metadata": {},
   "source": [
    "### Data mnist"
   ]
  },
  {
   "cell_type": "code",
   "execution_count": 2,
   "metadata": {},
   "outputs": [
    {
     "name": "stdout",
     "output_type": "stream",
     "text": [
      "Extracting ./data\\train-images-idx3-ubyte.gz\n",
      "Extracting ./data\\train-labels-idx1-ubyte.gz\n",
      "Extracting ./data\\t10k-images-idx3-ubyte.gz\n",
      "Extracting ./data\\t10k-labels-idx1-ubyte.gz\n"
     ]
    },
    {
     "data": {
      "image/png": "[encoded data removed]",
      "text/plain": [
       "<matplotlib.figure.Figure at 0x21172dd95f8>"
      ]
     },
     "metadata": {},
     "output_type": "display_data"
    }
   ],
   "source": [
    "\n",
    "\n",
    "mnist_flat_size = 784\n",
    "\n",
    "#mnist data\n",
    "from tensorflow.examples.tutorials.mnist import input_data\n",
    "mnist = input_data.read_data_sets(\"./data\",one_hot=True)\n",
    "\n",
    "ut.plot_mnist_images(mnist.test.images[0:9])"
   ]
  },
  {
   "cell_type": "markdown",
   "metadata": {},
   "source": [
    "### Code parameters\n",
    "\n",
    "For the architecture of the generator and the discriminator i am gonna try keep loyal to the network on the paper.\n",
    "\n"
   ]
  },
  {
   "cell_type": "code",
   "execution_count": 3,
   "metadata": {
    "collapsed": true
   },
   "outputs": [],
   "source": [
    "z_dimention = 100\n",
    "mnist_flat_size = 784\n",
    "\n",
    "batch_size = 64\n",
    "epoach = 50000"
   ]
  },
  {
   "cell_type": "markdown",
   "metadata": {},
   "source": [
    "### Generator network\n",
    "\n",
    "* 2 Deconvolution layers\n",
    "* No pooling layers\n",
    "* Batch normalization after convolution and before activation\n",
    "* Relu and tanh for output \n",
    "\n",
    "Note: I want that my final image have dimention $28 = 7\\times2\\times2$, so i can start with 7x7 image and upscale it by deconvolutions operations (with stride 2x2 and padding the image with zeros) the result would be a image with 14x14 and doing the same upscaling i get the final image with the size 28x28 (same as mnist :D)"
   ]
  },
  {
   "cell_type": "code",
   "execution_count": 4,
   "metadata": {
    "collapsed": true
   },
   "outputs": [],
   "source": [
    "\n",
    "\n",
    "Z = tf.placeholder(tf.float32, shape=[None, z_dimention], name='x_generator_input')\n",
    "Y = tf.placeholder(tf.float32, shape=[None, 10], name='label_oneHot')\n",
    "isTraining = tf.placeholder_with_default(False, shape=(), name='trainingPhase')\n",
    "\n",
    "def generator(x,train,name):\n",
    "    '''\n",
    "    Generator implemented as MLP\n",
    "    \n",
    "    :param x: tensor with shape (M,100) here M = number of samples\n",
    "    :param train: boolean tensor with indication if we are training or not\n",
    "    :return: tensor with shape (M,28,28,1) corresponding to the image (28x28) mapping between x and data distribution (pData)\n",
    "    '''\n",
    "    with tf.variable_scope(\"generator\",reuse=tf.AUTO_REUSE):\n",
    "        \n",
    "        # 1 fully connected layer to get 7x7x64 output (3136)\n",
    "        fc1 = tf.layers.dense(x, 7*7*64,name=\"fc1_\"+name)\n",
    "        fc1_bn = tf.layers.batch_normalization(fc1, training=train, name=\"fc1_bn_\"+name)\n",
    "        fc_relu1 = tf.nn.relu(fc1_bn,name=\"fc1_fn_\"+name)\n",
    "        \n",
    "        #reshape\n",
    "        r = tf.reshape(fc_relu1, [-1, 7, 7, 64])\n",
    "        \n",
    "        # 1 deconv 64 filters output 14x14x32\n",
    "        deconv1 = tf.layers.conv2d_transpose(r, 64, kernel_size=(5, 5), strides=(2, 2)\n",
    "                                             ,padding='same',name=\"dconv1_\"+name)\n",
    "        deconv1_bn = tf.layers.batch_normalization(deconv1, training=train,name=\"dconv1_bn_\"+name)\n",
    "        dc_relu2 = tf.nn.relu(deconv1_bn,name=\"dconv1_fn_\"+name)\n",
    "\n",
    "        # 2 deconv 1 filters and output 28x28x1\n",
    "        deconv2 = tf.layers.conv2d_transpose(dc_relu2, 1, kernel_size=(5, 5), strides=(2, 2),padding='same'\n",
    "                                             ,name=\"dconv2_\"+name, activation=tf.nn.tanh)\n",
    "\n",
    "        return deconv2\n",
    "\n"
   ]
  },
  {
   "cell_type": "markdown",
   "metadata": {},
   "source": [
    "### Discriminator Network\n",
    "* Leaky relu (alpha 0.2 tensorflow default) and tanh for output "
   ]
  },
  {
   "cell_type": "code",
   "execution_count": 5,
   "metadata": {
    "collapsed": true
   },
   "outputs": [],
   "source": [
    "\n",
    "X = tf.placeholder(tf.float32, shape=[None, mnist_flat_size], name='x_discriminator_input')\n",
    "\n",
    "def discriminator(x,train,name,drop_rate=0.5):\n",
    "    '''\n",
    "    Discriminator implemented as MLP\n",
    "    \n",
    "    :param x: tensor with shape (M,784) here M = number of samples\n",
    "    :return: tensor with shape (M,1) corresponding to the probability of each sample being true or fake\n",
    "    '''\n",
    "    with tf.variable_scope(\"discriminator\",reuse=tf.AUTO_REUSE):\n",
    "        \n",
    "        #reshape\n",
    "        r = tf.reshape(x, [-1, 28, 28, 1])\n",
    "        \n",
    "        # 1 conv 64 filters output 14x14x32\n",
    "        conv1 = tf.layers.conv2d(r, 64, kernel_size=(5, 5), strides=(2, 2)\n",
    "                                             ,padding='same',name=\"conv1_\"+name)\n",
    "        conv1_bn = tf.layers.batch_normalization(conv1, training=train, name=\"conv1_bn_\"+name)\n",
    "        c_lrelu1 = tf.nn.leaky_relu(conv1_bn,name=\"conv1_fn_\"+name)\n",
    "        \n",
    "        # 2 conv 32 filters and output 7x7x32\n",
    "        conv2 = tf.layers.conv2d(c_lrelu1, 32, kernel_size=(5, 5), strides=(2, 2),padding='same'\n",
    "                                             ,name=\"conv2_\"+name)\n",
    "        conv2_bn = tf.layers.batch_normalization(conv2, training=train, name=\"conv2_bn_\"+name)\n",
    "        c_relu2 = tf.nn.relu(conv2_bn, name=\"conv2_fn_\"+name)\n",
    "        \n",
    "        #flatten\n",
    "        flatten = tf.layers.flatten(c_relu2)\n",
    "        \n",
    "        fc1 = tf.layers.dense(flatten, 7*7*32,name=\"fc1_\"+name,activation=tf.nn.relu)\n",
    "        fc1_drop = tf.layers.dropout(fc1,rate = drop_rate, training=train)\n",
    "        \n",
    "        fc2 = tf.layers.dense(fc1_drop, 256,name=\"fc2_\"+name,activation=tf.nn.relu)\n",
    "        fc2_drop = tf.layers.dropout(fc2,rate = drop_rate, training=train)\n",
    "        \n",
    "        fc3 = tf.layers.dense(fc2_drop, 1,name=\"fc3_\"+name, activation=None)\n",
    "        \n",
    "        sig_fc3 = tf.nn.sigmoid(fc3)\n",
    "        \n",
    "        return sig_fc3,fc3\n",
    "\n",
    "    "
   ]
  },
  {
   "cell_type": "markdown",
   "metadata": {},
   "source": [
    "### Loss functions"
   ]
  },
  {
   "cell_type": "code",
   "execution_count": 6,
   "metadata": {},
   "outputs": [
    {
     "name": "stdout",
     "output_type": "stream",
     "text": [
      "Tensor(\"discriminator_1/fc3_d_/BiasAdd:0\", shape=(?, 1), dtype=float32)\n",
      "Tensor(\"discriminator/fc3_d_/BiasAdd:0\", shape=(?, 1), dtype=float32)\n",
      "Tensor(\"generator/dconv2_g_/Tanh:0\", shape=(?, 28, 28, 1), dtype=float32)\n"
     ]
    }
   ],
   "source": [
    "#using now the xentropy (TODO use the default)\n",
    "generated_sample = generator(Z,isTraining,\"g_\")\n",
    "d_fake_prob, d_fake_logits = discriminator(generated_sample,isTraining,\"d_\")\n",
    "\n",
    "#normalize between -1 1, perhaps more effecient to cache the results or pre process\n",
    "X_tanh_normalize = (X-0.5)*2\n",
    "d_true_prob, d_true_logits = discriminator(X_tanh_normalize,isTraining,\"d_\")\n",
    "\n",
    "alternative_loss = True\n",
    "\n",
    "print(d_true_logits)\n",
    "print(d_fake_logits)\n",
    "print(generated_sample)\n",
    "#try avoid log(0)\n",
    "eps = 1e-8\n",
    "\n",
    "def xentropy_sigmoid(logits,labels):\n",
    "    return tf.reduce_mean(tf.nn.sigmoid_cross_entropy_with_logits(logits=logits, labels=labels))\n",
    "\n",
    "with tf.name_scope(\"discriminator_loss\"):\n",
    "    if alternative_loss:\n",
    "        d_loss = xentropy_sigmoid(d_true_logits,tf.ones_like(d_true_logits)) + xentropy_sigmoid(d_fake_logits,tf.zeros_like(d_fake_logits)) \n",
    "    else:\n",
    "        d_loss = -tf.reduce_mean(tf.log(d_true_prob + eps) + tf.log(1. - d_fake_prob + eps))\n",
    "\n",
    "\n",
    "with tf.name_scope(\"generator_loss\"):\n",
    "    if alternative_loss:\n",
    "        g_loss = xentropy_sigmoid(d_fake_logits, tf.ones_like(d_fake_logits))\n",
    "    else:\n",
    "        g_loss = -tf.reduce_mean(tf.log(d_fake_prob + eps))\n",
    "    \n",
    "    "
   ]
  },
  {
   "cell_type": "markdown",
   "metadata": {},
   "source": [
    "### Geting the trainable variables for generator and the discriminator (disadvantage of using layers API)"
   ]
  },
  {
   "cell_type": "code",
   "execution_count": 7,
   "metadata": {},
   "outputs": [
    {
     "name": "stdout",
     "output_type": "stream",
     "text": [
      "[<tf.Variable 'generator/fc1_g_/kernel:0' shape=(100, 3136) dtype=float32_ref>, <tf.Variable 'generator/fc1_g_/bias:0' shape=(3136,) dtype=float32_ref>, <tf.Variable 'generator/fc1_bn_g_/gamma:0' shape=(3136,) dtype=float32_ref>, <tf.Variable 'generator/fc1_bn_g_/beta:0' shape=(3136,) dtype=float32_ref>, <tf.Variable 'generator/dconv1_g_/kernel:0' shape=(5, 5, 64, 64) dtype=float32_ref>, <tf.Variable 'generator/dconv1_g_/bias:0' shape=(64,) dtype=float32_ref>, <tf.Variable 'generator/dconv1_bn_g_/gamma:0' shape=(64,) dtype=float32_ref>, <tf.Variable 'generator/dconv1_bn_g_/beta:0' shape=(64,) dtype=float32_ref>, <tf.Variable 'generator/dconv2_g_/kernel:0' shape=(5, 5, 1, 64) dtype=float32_ref>, <tf.Variable 'generator/dconv2_g_/bias:0' shape=(1,) dtype=float32_ref>]\n",
      "[<tf.Variable 'discriminator/conv1_d_/kernel:0' shape=(5, 5, 1, 64) dtype=float32_ref>, <tf.Variable 'discriminator/conv1_d_/bias:0' shape=(64,) dtype=float32_ref>, <tf.Variable 'discriminator/conv1_bn_d_/gamma:0' shape=(64,) dtype=float32_ref>, <tf.Variable 'discriminator/conv1_bn_d_/beta:0' shape=(64,) dtype=float32_ref>, <tf.Variable 'discriminator/conv2_d_/kernel:0' shape=(5, 5, 64, 32) dtype=float32_ref>, <tf.Variable 'discriminator/conv2_d_/bias:0' shape=(32,) dtype=float32_ref>, <tf.Variable 'discriminator/conv2_bn_d_/gamma:0' shape=(32,) dtype=float32_ref>, <tf.Variable 'discriminator/conv2_bn_d_/beta:0' shape=(32,) dtype=float32_ref>, <tf.Variable 'discriminator/fc1_d_/kernel:0' shape=(1568, 1568) dtype=float32_ref>, <tf.Variable 'discriminator/fc1_d_/bias:0' shape=(1568,) dtype=float32_ref>, <tf.Variable 'discriminator/fc2_d_/kernel:0' shape=(1568, 256) dtype=float32_ref>, <tf.Variable 'discriminator/fc2_d_/bias:0' shape=(256,) dtype=float32_ref>, <tf.Variable 'discriminator/fc3_d_/kernel:0' shape=(256, 1) dtype=float32_ref>, <tf.Variable 'discriminator/fc3_d_/bias:0' shape=(1,) dtype=float32_ref>]\n"
     ]
    }
   ],
   "source": [
    "generator_variables = [var for var in tf.trainable_variables() if 'g_' in var.name]\n",
    "discriminator_variables = [var for var in tf.trainable_variables() if ('d_' in var.name or 'c_' in var.name)]\n",
    "\n",
    "# kernel = weight\n",
    "print(generator_variables)\n",
    "print(discriminator_variables)"
   ]
  },
  {
   "cell_type": "markdown",
   "metadata": {},
   "source": [
    "### Train"
   ]
  },
  {
   "cell_type": "code",
   "execution_count": 8,
   "metadata": {},
   "outputs": [
    {
     "name": "stdout",
     "output_type": "stream",
     "text": [
      "Epoach 0\n",
      "Discriminator loss:  1.49978\n",
      "Generator loss: 1.14463\n",
      "(9, 100)\n"
     ]
    },
    {
     "ename": "NameError",
     "evalue": "name 'remap' is not defined",
     "output_type": "error",
     "traceback": [
      "\u001b[1;31m---------------------------------------------------------------------------\u001b[0m",
      "\u001b[1;31mNameError\u001b[0m                                 Traceback (most recent call last)",
      "\u001b[1;32m<ipython-input-8-cfc73d028a2d>\u001b[0m in \u001b[0;36m<module>\u001b[1;34m()\u001b[0m\n\u001b[0;32m     35\u001b[0m         \u001b[0mgenerated_images\u001b[0m \u001b[1;33m=\u001b[0m \u001b[0mgenerated_sample\u001b[0m\u001b[1;33m.\u001b[0m\u001b[0meval\u001b[0m\u001b[1;33m(\u001b[0m\u001b[0msession\u001b[0m\u001b[1;33m=\u001b[0m\u001b[0msess\u001b[0m\u001b[1;33m,\u001b[0m\u001b[0mfeed_dict\u001b[0m\u001b[1;33m=\u001b[0m\u001b[1;33m{\u001b[0m\u001b[0mZ\u001b[0m\u001b[1;33m:\u001b[0m \u001b[0mz_new\u001b[0m\u001b[1;33m}\u001b[0m\u001b[1;33m)\u001b[0m\u001b[1;33m.\u001b[0m\u001b[0mreshape\u001b[0m\u001b[1;33m(\u001b[0m\u001b[1;33m(\u001b[0m\u001b[1;36m9\u001b[0m\u001b[1;33m,\u001b[0m\u001b[1;36m784\u001b[0m\u001b[1;33m)\u001b[0m\u001b[1;33m)\u001b[0m\u001b[1;33m\u001b[0m\u001b[0m\n\u001b[0;32m     36\u001b[0m \u001b[1;33m\u001b[0m\u001b[0m\n\u001b[1;32m---> 37\u001b[1;33m         \u001b[0mut\u001b[0m\u001b[1;33m.\u001b[0m\u001b[0mplot_mnist_images\u001b[0m\u001b[1;33m(\u001b[0m\u001b[0mremap\u001b[0m\u001b[1;33m)\u001b[0m\u001b[1;33m\u001b[0m\u001b[0m\n\u001b[0m",
      "\u001b[1;31mNameError\u001b[0m: name 'remap' is not defined"
     ]
    }
   ],
   "source": [
    "lr=0.001\n",
    "with tf.name_scope(\"discriminator_train\"):\n",
    "    d_optimizer = tf.train.AdamOptimizer(learning_rate=1e-4,beta1=0.1)\n",
    "    d_train_op = d_optimizer.minimize(d_loss, var_list=discriminator_variables) # note minimizing negative loss is the same as maximizing, tf dont have maximizing\n",
    "\n",
    "with tf.name_scope(\"generator_train\"):\n",
    "    g_optimizer = tf.train.AdamOptimizer(learning_rate=2e-4,beta1=0.3)\n",
    "    g_train_op = g_optimizer.minimize(g_loss,var_list=generator_variables)\n",
    "\n",
    "\n",
    "## Start graph computations and algorithm\n",
    "\n",
    "sess = tf.Session()\n",
    "sess.run(tf.global_variables_initializer())\n",
    "\n",
    "for i in range(epoach+1):\n",
    "    x_train,y_train = mnist.train.next_batch(batch_size)\n",
    "    \n",
    "    #print(y_one_hot)\n",
    "    #first discriminator\n",
    "    _, d_loss_value = sess.run([d_train_op, d_loss], feed_dict={X: x_train, isTraining:True , Z: ut.random_Z(batch_size,n=z_dimention)})\n",
    "    #second generator\n",
    "    _, g_loss_value = sess.run([g_train_op, g_loss], feed_dict={Z: ut.random_Z(batch_size,n=z_dimention),isTraining:True})\n",
    "\n",
    "    if i%500 == 0:\n",
    "        print(\"Epoach\",i)\n",
    "        print(\"Discriminator loss: \",d_loss_value)\n",
    "        print(\"Generator loss:\",g_loss_value)\n",
    "        #print(\"D_sample\",d_sample)\n",
    "        #print(\"G_sample\",g_sample)\n",
    "        \n",
    "        #visual progress of training\n",
    "        z_new = ut.random_Z(9,n=z_dimention)\n",
    "        print(z_new.shape)\n",
    "        generated_images = generated_sample.eval(session=sess,feed_dict={Z: z_new}).reshape((9,784))\n",
    "\n",
    "        ut.plot_mnist_images(remap)"
   ]
  },
  {
   "cell_type": "markdown",
   "metadata": {
    "collapsed": true
   },
   "source": [
    "### Testing the classifier"
   ]
  },
  {
   "cell_type": "code",
   "execution_count": null,
   "metadata": {
    "collapsed": true
   },
   "outputs": [],
   "source": []
  },
  {
   "cell_type": "code",
   "execution_count": null,
   "metadata": {
    "collapsed": true
   },
   "outputs": [],
   "source": [
    "sess.close()"
   ]
  },
  {
   "cell_type": "code",
   "execution_count": null,
   "metadata": {
    "collapsed": true
   },
   "outputs": [],
   "source": []
  }
 ],
 "metadata": {
  "kernelspec": {
   "display_name": "Python 3",
   "language": "python",
   "name": "python3"
  },
  "language_info": {
   "codemirror_mode": {
    "name": "ipython",
    "version": 3
   },
   "file_extension": ".py",
   "mimetype": "text/x-python",
   "name": "python",
   "nbconvert_exporter": "python",
   "pygments_lexer": "ipython3",
   "version": "3.6.3"
  }
 },
 "nbformat": 4,
 "nbformat_minor": 2
}
