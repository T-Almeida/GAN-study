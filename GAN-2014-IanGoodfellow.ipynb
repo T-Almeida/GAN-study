{
 "cells": [
  {
   "cell_type": "markdown",
   "metadata": {},
   "source": [
    "# Generative Advarsarial Network \n",
    "\n",
    "Here is presented the first GAN created by Ian Goodfellow https://arxiv.org/abs/1406.2661\n",
    "\n",
    "Implementation is done in tensorflow\n",
    "\n",
    "Created by: Tiago Almeida 02/02/2018"
   ]
  },
  {
   "cell_type": "code",
   "execution_count": 1,
   "metadata": {},
   "outputs": [
    {
     "data": {
      "text/plain": [
       "'1.4.0'"
      ]
     },
     "execution_count": 1,
     "metadata": {},
     "output_type": "execute_result"
    }
   ],
   "source": [
    "##imports\n",
    "import tensorflow as tf\n",
    "%matplotlib inline\n",
    "import matplotlib.pyplot as plt\n",
    "import tensorflow as tf\n",
    "import numpy as np\n",
    "import os\n",
    "import utils as ut # auxiliar file to help in data visualization\n",
    "\n",
    "#tensorflow version when notebook was created - 1.4.0\n",
    "tf.__version__\n"
   ]
  },
  {
   "cell_type": "markdown",
   "metadata": {},
   "source": [
    "### Data MNIST"
   ]
  },
  {
   "cell_type": "code",
   "execution_count": 2,
   "metadata": {},
   "outputs": [
    {
     "name": "stdout",
     "output_type": "stream",
     "text": [
      "Extracting ./data\\train-images-idx3-ubyte.gz\n",
      "Extracting ./data\\train-labels-idx1-ubyte.gz\n",
      "Extracting ./data\\t10k-images-idx3-ubyte.gz\n",
      "Extracting ./data\\t10k-labels-idx1-ubyte.gz\n"
     ]
    },
    {
     "data": {
      "image/png": "[encoded data removed]",
      "text/plain": [
       "<matplotlib.figure.Figure at 0x140fee09470>"
      ]
     },
     "metadata": {},
     "output_type": "display_data"
    }
   ],
   "source": [
    "mnist_flat_size = 784\n",
    "\n",
    "#mnist data\n",
    "from tensorflow.examples.tutorials.mnist import input_data\n",
    "mnist = input_data.read_data_sets(\"./data\")\n",
    "ut.plot_mnist_images(mnist.test.images[0:9],cls_true=mnist.test.labels[0:9])\n",
    "\n",
    "#reset graph using during notebook development\n",
    "tf.reset_default_graph()\n",
    "\n"
   ]
  },
  {
   "cell_type": "markdown",
   "metadata": {
    "collapsed": true
   },
   "source": [
    "### Generator network \n",
    "In this implementation i use tensorflow layers API for creating the network\n",
    "\n",
    "The network receive a 100-dimensinal vector (z) and return a 728-vector (same size of mnist image (28x28)). The objective is the generator create a mapping between space of vector z and the real MNIST DATA! (i think :P)"
   ]
  },
  {
   "cell_type": "code",
   "execution_count": 3,
   "metadata": {
    "collapsed": true
   },
   "outputs": [],
   "source": [
    "#array that contain the network dimention at least 2 dimention (input and output dimentions)\n",
    "G_dimentions = [100,128,mnist_flat_size]\n",
    "\n",
    "Z = tf.placeholder(tf.float32, shape=[None, G_dimentions[0]], name='x_generator_input')\n",
    "\n",
    "def generator(x):\n",
    "    '''\n",
    "    Generator implemented as MLP\n",
    "    \n",
    "    :param x: tensor with shape (M,100) here M = number of samples\n",
    "    :return: tensor with shape (M,728) corresponding to the image (28x28) mapping between x and data distribution (pData)\n",
    "    '''\n",
    "    with tf.name_scope(\"generator_nn\"):\n",
    "        g_net = tf.layers.dense(x,G_dimentions[0],\n",
    "                                    activation=tf.nn.relu,\n",
    "                                    name='g_input', reuse=tf.AUTO_REUSE)\n",
    "        for i in range(1,len(G_dimentions)-1):#loop throw hidden layers\n",
    "            g_net = tf.layers.dense(g_net,G_dimentions[i],\n",
    "                                    activation=tf.nn.relu,\n",
    "                                    name='g_hidden'+str(i),reuse=tf.AUTO_REUSE)\n",
    "        g_net = tf.layers.dense(g_net,G_dimentions[-1],activation=tf.nn.sigmoid,name='g_output',reuse=tf.AUTO_REUSE)\n",
    "        return g_net\n"
   ]
  },
  {
   "cell_type": "markdown",
   "metadata": {},
   "source": [
    "### Discriminator network \n",
    "In this implementation i use tensorflow layers API for creating the network\n",
    "\n",
    "The network receives a image (728 vector) and try classify as fake or original."
   ]
  },
  {
   "cell_type": "code",
   "execution_count": 4,
   "metadata": {
    "collapsed": true
   },
   "outputs": [],
   "source": [
    "#array that contain the network dimention at least 2 dimention (input and output dimentions)\n",
    "D_dimentions = [mnist_flat_size,128,1] ##ouput 1-fake, 0-true\n",
    "\n",
    "X = tf.placeholder(tf.float32, shape=[None, D_dimentions[0]], name='x_discriminator_input')\n",
    "\n",
    "def discriminator(x):\n",
    "    '''\n",
    "    Discriminator implemented as MLP\n",
    "    \n",
    "    :param x: tensor with shape (M,728) here M = number of samples\n",
    "    :return: tensor with shape (M,1) corresponding to the probability of each sample being true or fake\n",
    "    '''\n",
    "    with tf.name_scope(\"discriminator_nn\"):\n",
    "        d_net = tf.layers.dense(x,units=D_dimentions[0],\n",
    "                                    activation=tf.nn.relu,\n",
    "                                    name='d_input',reuse=tf.AUTO_REUSE)\n",
    "        for i in range(1,len(D_dimentions)-1):#loop throw hidden layers\n",
    "            d_net = tf.layers.dense(d_net,D_dimentions[i],\n",
    "                                    activation=tf.nn.relu,\n",
    "                                    name='d_hidden'+str(i),reuse=tf.AUTO_REUSE)\n",
    "        d_net = tf.layers.dense(d_net,D_dimentions[-1],activation=None,name='d_output',reuse=tf.AUTO_REUSE)\n",
    "        #save the logits before the sigmoid activation (ouput between[0,1])\n",
    "        d_logits = d_net\n",
    "        d_net = tf.nn.sigmoid(d_net)\n",
    "        return d_net"
   ]
  },
  {
   "cell_type": "code",
   "execution_count": null,
   "metadata": {
    "collapsed": true
   },
   "outputs": [],
   "source": []
  },
  {
   "cell_type": "markdown",
   "metadata": {},
   "source": [
    "### Loss functions Generator and Discriminator\n",
    "\n",
    "Optimizers of tensorflow dont have maximizing method so we minimize the negative loss."
   ]
  },
  {
   "cell_type": "code",
   "execution_count": 5,
   "metadata": {},
   "outputs": [],
   "source": [
    "\n",
    "with tf.name_scope(\"generator_loss\"): #D(G(Z))\n",
    "    generated_sample = generator(Z)\n",
    "    d_fake_prob = discriminator(generated_sample)\n",
    "    g_loss = -tf.reduce_mean(tf.log(d_fake_prob))\n",
    "\n",
    "with tf.name_scope(\"discriminator_loss\"):\n",
    "    d_true_prob = discriminator(X)\n",
    "    d_loss = -tf.reduce_mean(tf.log(d_true_prob) + tf.log(1. - d_fake_prob))\n"
   ]
  },
  {
   "cell_type": "markdown",
   "metadata": {},
   "source": [
    "#### Geting the trainable variables for generator and the discriminator (disadvantage of using layers API)\n",
    "\n",
    "Since we dont want to obtimize the discriminator when training de generator and vice-versa"
   ]
  },
  {
   "cell_type": "code",
   "execution_count": 6,
   "metadata": {},
   "outputs": [
    {
     "name": "stdout",
     "output_type": "stream",
     "text": [
      "[<tf.Variable 'g_input/kernel:0' shape=(100, 100) dtype=float32_ref>, <tf.Variable 'g_input/bias:0' shape=(100,) dtype=float32_ref>, <tf.Variable 'g_hidden1/kernel:0' shape=(100, 128) dtype=float32_ref>, <tf.Variable 'g_hidden1/bias:0' shape=(128,) dtype=float32_ref>, <tf.Variable 'g_output/kernel:0' shape=(128, 784) dtype=float32_ref>, <tf.Variable 'g_output/bias:0' shape=(784,) dtype=float32_ref>]\n",
      "[<tf.Variable 'd_input/kernel:0' shape=(784, 784) dtype=float32_ref>, <tf.Variable 'd_input/bias:0' shape=(784,) dtype=float32_ref>, <tf.Variable 'd_hidden1/kernel:0' shape=(784, 128) dtype=float32_ref>, <tf.Variable 'd_hidden1/bias:0' shape=(128,) dtype=float32_ref>, <tf.Variable 'd_output/kernel:0' shape=(128, 1) dtype=float32_ref>, <tf.Variable 'd_output/bias:0' shape=(1,) dtype=float32_ref>]\n"
     ]
    }
   ],
   "source": [
    "#\n",
    "generator_variables = [var for var in tf.trainable_variables() if 'g_' in var.name]\n",
    "discriminator_variables = [var for var in tf.trainable_variables() if 'd_' in var.name]\n",
    "\n",
    "# kernel = weight\n",
    "print(generator_variables)\n",
    "print(discriminator_variables)\n",
    "\n"
   ]
  },
  {
   "cell_type": "markdown",
   "metadata": {
    "collapsed": true
   },
   "source": [
    "### Training Algorithm\n"
   ]
  },
  {
   "cell_type": "code",
   "execution_count": 7,
   "metadata": {},
   "outputs": [
    {
     "name": "stdout",
     "output_type": "stream",
     "text": [
      "Discriminator loss:  1.35709\n",
      "Generator loss: 1.11559\n",
      "Discriminator loss:  0.0113126\n",
      "Generator loss: 5.70228\n",
      "Discriminator loss:  0.00649965\n",
      "Generator loss: 6.34325\n",
      "Discriminator loss:  0.006775\n",
      "Generator loss: 6.10961\n",
      "Discriminator loss:  0.0234811\n",
      "Generator loss: 5.08756\n",
      "Discriminator loss:  0.0466594\n",
      "Generator loss: 5.60037\n",
      "Discriminator loss:  0.0138109\n",
      "Generator loss: 6.87439\n",
      "Discriminator loss:  0.0150415\n",
      "Generator loss: 6.85653\n",
      "Discriminator loss:  0.00853939\n",
      "Generator loss: 7.1002\n",
      "Discriminator loss:  0.00549406\n",
      "Generator loss: 7.55583\n",
      "Discriminator loss:  0.000908314\n",
      "Generator loss: 8.4563\n",
      "Discriminator loss:  0.00208594\n",
      "Generator loss: 8.06886\n",
      "Discriminator loss:  0.00541286\n",
      "Generator loss: 7.9515\n",
      "Discriminator loss:  0.00180797\n",
      "Generator loss: 8.39942\n",
      "Discriminator loss:  0.00185618\n",
      "Generator loss: 8.34344\n",
      "Discriminator loss:  0.00062314\n",
      "Generator loss: 8.5146\n",
      "Discriminator loss:  0.000803236\n",
      "Generator loss: 8.75479\n",
      "Discriminator loss:  0.000559178\n",
      "Generator loss: 9.08994\n",
      "Discriminator loss:  0.00193946\n",
      "Generator loss: 9.95054\n",
      "Discriminator loss:  0.000839807\n",
      "Generator loss: 8.95474\n",
      "Discriminator loss:  0.000870974\n",
      "Generator loss: 9.42209\n",
      "Discriminator loss:  0.00120841\n",
      "Generator loss: 8.48696\n",
      "Discriminator loss:  0.000205695\n",
      "Generator loss: 9.82942\n",
      "Discriminator loss:  2.83168e-05\n",
      "Generator loss: 13.0854\n",
      "Discriminator loss:  0.00066159\n",
      "Generator loss: 8.04844\n",
      "Discriminator loss:  0.0038398\n",
      "Generator loss: 8.78249\n",
      "Discriminator loss:  0.000745644\n",
      "Generator loss: 8.57471\n",
      "Discriminator loss:  0.000190885\n",
      "Generator loss: 9.10169\n",
      "Discriminator loss:  0.000363818\n",
      "Generator loss: 8.83501\n",
      "Discriminator loss:  0.000326599\n",
      "Generator loss: 8.71858\n",
      "Discriminator loss:  0.000637388\n",
      "Generator loss: 8.92051\n",
      "Discriminator loss:  0.000229843\n",
      "Generator loss: 8.87779\n",
      "Discriminator loss:  0.000206304\n",
      "Generator loss: 9.36804\n",
      "Discriminator loss:  0.000264602\n",
      "Generator loss: 8.6267\n",
      "Discriminator loss:  0.000262009\n",
      "Generator loss: 8.86329\n",
      "Discriminator loss:  0.000178867\n",
      "Generator loss: 8.83907\n",
      "Discriminator loss:  0.000538485\n",
      "Generator loss: 8.76016\n",
      "Discriminator loss:  0.000285614\n",
      "Generator loss: 8.55392\n",
      "Discriminator loss:  0.000278007\n",
      "Generator loss: 9.18852\n",
      "Discriminator loss:  0.000206194\n",
      "Generator loss: 9.60538\n",
      "Discriminator loss:  0.000475341\n",
      "Generator loss: 8.80847\n",
      "Discriminator loss:  0.000152363\n",
      "Generator loss: 9.52847\n",
      "Discriminator loss:  0.000553713\n",
      "Generator loss: 9.09836\n",
      "Discriminator loss:  0.00143797\n",
      "Generator loss: 6.55867\n",
      "Discriminator loss:  0.000512352\n",
      "Generator loss: 8.28978\n",
      "Discriminator loss:  0.000992391\n",
      "Generator loss: 8.39643\n",
      "Discriminator loss:  0.000181626\n",
      "Generator loss: 9.88001\n",
      "Discriminator loss:  0.000264967\n",
      "Generator loss: 9.26486\n",
      "Discriminator loss:  0.000711448\n",
      "Generator loss: 8.31579\n",
      "Discriminator loss:  0.000935616\n",
      "Generator loss: 8.65281\n",
      "Discriminator loss:  0.000114703\n",
      "Generator loss: 10.146\n",
      "Discriminator loss:  0.000153782\n",
      "Generator loss: 9.8176\n",
      "Discriminator loss:  0.000608844\n",
      "Generator loss: 9.70927\n",
      "Discriminator loss:  0.000197981\n",
      "Generator loss: 10.2943\n",
      "Discriminator loss:  8.28365e-05\n",
      "Generator loss: 10.6553\n",
      "Discriminator loss:  0.000913604\n",
      "Generator loss: 8.24255\n",
      "Discriminator loss:  0.000402535\n",
      "Generator loss: 9.38511\n",
      "Discriminator loss:  0.00102454\n",
      "Generator loss: 8.06974\n",
      "Discriminator loss:  0.000855269\n",
      "Generator loss: 9.56254\n",
      "Discriminator loss:  0.000292411\n",
      "Generator loss: 9.12911\n",
      "Discriminator loss:  0.000350641\n",
      "Generator loss: 9.30216\n",
      "Discriminator loss:  7.72786e-05\n",
      "Generator loss: 10.2211\n",
      "Discriminator loss:  2.33315e-06\n",
      "Generator loss: 15.9578\n",
      "Discriminator loss:  0.000112332\n",
      "Generator loss: 10.0906\n",
      "Discriminator loss:  0.00177659\n",
      "Generator loss: 7.27933\n",
      "Discriminator loss:  0.000153984\n",
      "Generator loss: 9.38999\n",
      "Discriminator loss:  4.3946e-05\n",
      "Generator loss: 10.9668\n",
      "Discriminator loss:  0.000194412\n",
      "Generator loss: 9.74869\n",
      "Discriminator loss:  0.000136565\n",
      "Generator loss: 10.0089\n",
      "Discriminator loss:  0.000214108\n",
      "Generator loss: 8.83387\n",
      "Discriminator loss:  8.81132e-05\n",
      "Generator loss: 10.1766\n",
      "Discriminator loss:  0.000211999\n",
      "Generator loss: 9.31779\n",
      "Discriminator loss:  8.52483e-05\n",
      "Generator loss: 10.4889\n",
      "Discriminator loss:  0.000408798\n",
      "Generator loss: 9.35489\n",
      "Discriminator loss:  8.53126e-06\n",
      "Generator loss: 12.1506\n",
      "Discriminator loss:  1.15503e-05\n",
      "Generator loss: 11.6359\n",
      "Discriminator loss:  0.000311662\n",
      "Generator loss: 8.99554\n",
      "Discriminator loss:  0.000105113\n",
      "Generator loss: 9.97811\n",
      "Discriminator loss:  9.58498e-05\n",
      "Generator loss: 9.54946\n",
      "Discriminator loss:  9.45801e-05\n",
      "Generator loss: 9.45473\n",
      "Discriminator loss:  0.00743665\n",
      "Generator loss: 8.30787\n",
      "Discriminator loss:  5.47769e-06\n",
      "Generator loss: 13.0026\n",
      "Discriminator loss:  1.7019e-05\n",
      "Generator loss: 20.2296\n",
      "Discriminator loss:  3.23952e-06\n",
      "Generator loss: 14.8483\n",
      "Discriminator loss:  4.02028e-05\n",
      "Generator loss: 10.5985\n",
      "Discriminator loss:  1.74361e-05\n",
      "Generator loss: 13.0303\n",
      "Discriminator loss:  8.82149e-08\n",
      "Generator loss: 16.9237\n",
      "Discriminator loss:  8.01866e-06\n",
      "Generator loss: 12.0129\n",
      "Discriminator loss:  0.000151728\n",
      "Generator loss: 10.2927\n",
      "Discriminator loss:  6.33941e-05\n",
      "Generator loss: 10.8849\n",
      "Discriminator loss:  4.06866e-05\n",
      "Generator loss: 11.1744\n",
      "Discriminator loss:  8.37598e-05\n",
      "Generator loss: 10.0782\n",
      "Discriminator loss:  2.88681e-05\n",
      "Generator loss: 12.3034\n",
      "Discriminator loss:  8.04012e-06\n",
      "Generator loss: 12.191\n",
      "Discriminator loss:  8.38878e-06\n",
      "Generator loss: 15.3565\n",
      "Discriminator loss:  0.000181179\n",
      "Generator loss: 10.1147\n",
      "Discriminator loss:  3.78438e-05\n",
      "Generator loss: 10.3269\n",
      "Discriminator loss:  0.00124968\n",
      "Generator loss: 16.955\n",
      "Discriminator loss:  0.000235593\n",
      "Generator loss: 8.90153\n",
      "Discriminator loss:  2.98526e-05\n",
      "Generator loss: 12.0855\n"
     ]
    }
   ],
   "source": [
    "lr=0.0001\n",
    "with tf.name_scope(\"discriminator_train\"):\n",
    "    d_optimizer = tf.train.AdamOptimizer(learning_rate=lr)\n",
    "    d_train_op = d_optimizer.minimize(d_loss, var_list=discriminator_variables) # note minimizing negative loss is the same as maximizing, tf dont have maximizing\n",
    "\n",
    "with tf.name_scope(\"generator_train\"):\n",
    "    g_optimizer = tf.train.AdamOptimizer(learning_rate=lr)\n",
    "    g_train_op = g_optimizer.minimize(g_loss,var_list=generator_variables)\n",
    "\n",
    "\n",
    "def random_Z(m, n=100):\n",
    "    '''\n",
    "    Random values for Z between -1 and 1\n",
    "    \n",
    "    :param m: number of samples\n",
    "    :param n: dimension of Z\n",
    "    :return: Vector with shape (m,n)\n",
    "    '''\n",
    "    return np.random.uniform(-1., 1., size=[m, n])\n",
    "\n",
    "## Start graph computations and algorithm\n",
    "\n",
    "\n",
    "batch_size = 100\n",
    "epoach = 10000\n",
    "\n",
    "sess = tf.Session()\n",
    "sess.run(tf.global_variables_initializer())\n",
    "\n",
    "for i in range(epoach):\n",
    "    x_train,y_train = mnist.train.next_batch(batch_size)\n",
    "\n",
    "    #first discriminator\n",
    "    _, d_loss_value,d_sample = sess.run([d_train_op, d_loss, generated_sample], feed_dict={X: x_train, Z: random_Z(batch_size)})\n",
    "    #second generator\n",
    "    _, g_loss_value,g_sample = sess.run([g_train_op, g_loss,generated_sample], feed_dict={Z: random_Z(batch_size)})\n",
    "\n",
    "    if i%100 == 0:\n",
    "        print(\"Epoach\",i)\n",
    "        print(\"Discriminator loss: \",d_loss_value)\n",
    "        print(\"Generator loss:\",g_loss_value)\n",
    "        #print(\"D_sample\",d_sample)\n",
    "        #print(\"G_sample\",g_sample)\n",
    "\n",
    "##After the otimization lets generate some numbers :D \n",
    "\n",
    "z_new = random_Z(9)\n",
    "\n",
    "generated_images = generated_sample.eval(session=sess,feed_dict={Z: z_new})\n",
    "\n",
    "\n",
    "#ut.plot_mnist_images(generated_images,cls_true=[0]*9)\n"
   ]
  },
  {
   "cell_type": "code",
   "execution_count": 8,
   "metadata": {},
   "outputs": [
    {
     "name": "stdout",
     "output_type": "stream",
     "text": [
      "[[  6.07064898e-10   1.17725363e-09   2.03218864e-09 ...,   3.40285189e-10\n",
      "    8.29469715e-10   7.38675010e-10]\n",
      " [  6.86043278e-10   1.46375012e-09   4.08920720e-09 ...,   1.78885984e-09\n",
      "    1.90765959e-09   1.14466503e-09]\n",
      " [  1.02796776e-08   1.11372866e-08   1.74474426e-08 ...,   1.39900305e-08\n",
      "    1.73608665e-08   1.35048328e-08]\n",
      " ..., \n",
      " [  1.28614952e-09   1.80506454e-09   7.00406311e-09 ...,   2.06557704e-09\n",
      "    2.98309533e-09   2.32569319e-09]\n",
      " [  9.77597114e-09   8.61213767e-09   1.33690250e-08 ...,   1.61782179e-08\n",
      "    1.60849911e-08   9.05767461e-09]\n",
      " [  8.40253556e-09   1.01679998e-08   2.46277487e-08 ...,   8.79711948e-09\n",
      "    1.48224286e-08   1.03982725e-08]]\n"
     ]
    },
    {
     "data": {
      "image/png": "[encoded data removed]",
      "text/plain": [
       "<matplotlib.figure.Figure at 0x1408094e860>"
      ]
     },
     "metadata": {},
     "output_type": "display_data"
    }
   ],
   "source": [
    "\n",
    "\n",
    "#generated_images = generated_sample.eval(session=sess,feed_dict={Z: z_new})\n",
    "print(generated_images)\n",
    "ut.plot_mnist_images(generated_images,cls_true=[0]*9)\n"
   ]
  },
  {
   "cell_type": "code",
   "execution_count": null,
   "metadata": {
    "collapsed": true
   },
   "outputs": [],
   "source": []
  }
 ],
 "metadata": {
  "kernelspec": {
   "display_name": "Python 3",
   "language": "python",
   "name": "python3"
  },
  "language_info": {
   "codemirror_mode": {
    "name": "ipython",
    "version": 3
   },
   "file_extension": ".py",
   "mimetype": "text/x-python",
   "name": "python",
   "nbconvert_exporter": "python",
   "pygments_lexer": "ipython3",
   "version": "3.6.3"
  }
 },
 "nbformat": 4,
 "nbformat_minor": 2
}
