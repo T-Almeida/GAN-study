{
 "cells": [
  {
   "cell_type": "markdown",
   "metadata": {},
   "source": [
    "# Generative Advarsarial Network \n",
    "\n",
    "Here is presented the first GAN created by Ian Goodfellow https://arxiv.org/abs/1406.2661\n",
    "\n",
    "Implementation is done in tensorflow\n",
    "\n",
    "Created by: Tiago Almeida 02/02/2018"
   ]
  },
  {
   "cell_type": "code",
   "execution_count": 1,
   "metadata": {},
   "outputs": [
    {
     "data": {
      "text/plain": [
       "'1.4.0'"
      ]
     },
     "execution_count": 1,
     "metadata": {},
     "output_type": "execute_result"
    }
   ],
   "source": [
    "##imports\n",
    "import tensorflow as tf\n",
    "%matplotlib inline\n",
    "import matplotlib.pyplot as plt\n",
    "import tensorflow as tf\n",
    "import numpy as np\n",
    "import os\n",
    "import utils as ut # auxiliar file to help in data visualization\n",
    "\n",
    "#tensorflow version when notebook was created - 1.4.0\n",
    "tf.__version__\n"
   ]
  },
  {
   "cell_type": "markdown",
   "metadata": {},
   "source": [
    "### Data MNIST"
   ]
  },
  {
   "cell_type": "code",
   "execution_count": 2,
   "metadata": {},
   "outputs": [
    {
     "name": "stdout",
     "output_type": "stream",
     "text": [
      "Extracting ./data\\train-images-idx3-ubyte.gz\n",
      "Extracting ./data\\train-labels-idx1-ubyte.gz\n",
      "Extracting ./data\\t10k-images-idx3-ubyte.gz\n",
      "Extracting ./data\\t10k-labels-idx1-ubyte.gz\n"
     ]
    },
    {
     "data": {
      "image/png": "[encoded data removed]",
      "text/plain": [
       "<matplotlib.figure.Figure at 0x1af0a8afe48>"
      ]
     },
     "metadata": {},
     "output_type": "display_data"
    }
   ],
   "source": [
    "mnist_flat_size = 784\n",
    "\n",
    "#mnist data\n",
    "from tensorflow.examples.tutorials.mnist import input_data\n",
    "mnist = input_data.read_data_sets(\"./data\")\n",
    "ut.plot_mnist_images(mnist.test.images[0:9],cls_true=mnist.test.labels[0:9])\n",
    "\n",
    "#reset graph using during notebook development\n",
    "tf.reset_default_graph()\n",
    "\n"
   ]
  },
  {
   "cell_type": "markdown",
   "metadata": {
    "collapsed": true
   },
   "source": [
    "### Generator network \n",
    "In this implementation i use tensorflow layers API for creating the network\n",
    "\n",
    "The network receive a 100-dimensinal vector (z) and return a 728-vector (same size of mnist image (28x28)). The objective is the generator create a mapping between space of vector z and the real MNIST DATA! (i think :P)"
   ]
  },
  {
   "cell_type": "code",
   "execution_count": 3,
   "metadata": {
    "collapsed": true
   },
   "outputs": [],
   "source": [
    "#array that contain the network dimention at least 2 dimention (input and output dimentions)\n",
    "G_dimentions = [100,128,mnist_flat_size]\n",
    "\n",
    "Z = tf.placeholder(tf.float32, shape=[None, G_dimentions[0]], name='x_generator_input')\n",
    "\n",
    "def generator(x):\n",
    "    '''\n",
    "    Generator implemented as MLP\n",
    "    \n",
    "    :param x: tensor with shape (M,100) here M = number of samples\n",
    "    :return: tensor with shape (M,728) corresponding to the image (28x28) mapping between x and data distribution (pData)\n",
    "    '''\n",
    "    with tf.name_scope(\"generator_nn\"):\n",
    "        g_net = tf.layers.dense(x,G_dimentions[1],\n",
    "                                    activation=tf.nn.relu,\n",
    "                                    name='g_hidden1',reuse=tf.AUTO_REUSE)\n",
    "        for i in range(2,len(G_dimentions)-1):#loop throw hidden layers\n",
    "            g_net = tf.layers.dense(g_net,G_dimentions[i],\n",
    "                                    activation=tf.nn.relu,\n",
    "                                    name='g_hidden'+str(i),reuse=tf.AUTO_REUSE)\n",
    "        g_net = tf.layers.dense(g_net,G_dimentions[-1],activation=tf.nn.sigmoid,name='g_output',reuse=tf.AUTO_REUSE)\n",
    "        return g_net\n"
   ]
  },
  {
   "cell_type": "markdown",
   "metadata": {},
   "source": [
    "### Discriminator network \n",
    "In this implementation i use tensorflow layers API for creating the network\n",
    "\n",
    "The network receives a image (728 vector) and try classify as fake or original."
   ]
  },
  {
   "cell_type": "code",
   "execution_count": 4,
   "metadata": {
    "collapsed": true
   },
   "outputs": [],
   "source": [
    "#array that contain the network dimention at least 2 dimention (input and output dimentions)\n",
    "D_dimentions = [mnist_flat_size,128,1] ##ouput 1-fake, 0-true\n",
    "\n",
    "X = tf.placeholder(tf.float32, shape=[None, D_dimentions[0]], name='x_discriminator_input')\n",
    "\n",
    "def discriminator(x):\n",
    "    '''\n",
    "    Discriminator implemented as MLP\n",
    "    \n",
    "    :param x: tensor with shape (M,728) here M = number of samples\n",
    "    :return: tensor with shape (M,1) corresponding to the probability of each sample being true or fake\n",
    "    '''\n",
    "    with tf.name_scope(\"discriminator_nn\"):\n",
    "        d_net = tf.layers.dense(x,D_dimentions[1],\n",
    "                                    activation=tf.nn.relu,\n",
    "                                    name='d_hidden1',reuse=tf.AUTO_REUSE)\n",
    "        for i in range(2,len(D_dimentions)-1):#loop throw hidden layers\n",
    "            d_net = tf.layers.dense(d_net,D_dimentions[i],\n",
    "                                    activation=tf.nn.relu,\n",
    "                                    name='d_hidden'+str(i),reuse=tf.AUTO_REUSE)\n",
    "        d_net = tf.layers.dense(d_net,D_dimentions[-1],activation=None,name='d_output',reuse=tf.AUTO_REUSE)\n",
    "        #save the logits before the sigmoid activation (ouput between[0,1])\n",
    "        d_logits = d_net\n",
    "        d_net = tf.nn.sigmoid(d_net)\n",
    "        return d_net"
   ]
  },
  {
   "cell_type": "code",
   "execution_count": null,
   "metadata": {
    "collapsed": true
   },
   "outputs": [],
   "source": []
  },
  {
   "cell_type": "markdown",
   "metadata": {},
   "source": [
    "### Loss functions Generator and Discriminator\n",
    "\n",
    "Optimizers of tensorflow dont have maximizing method so we minimize the negative loss."
   ]
  },
  {
   "cell_type": "code",
   "execution_count": 5,
   "metadata": {},
   "outputs": [],
   "source": [
    "\n",
    "with tf.name_scope(\"generator_loss\"): #D(G(Z))\n",
    "    generated_sample = generator(Z)\n",
    "    d_fake_prob = discriminator(generated_sample)\n",
    "    g_loss = -tf.reduce_mean(tf.log(d_fake_prob))\n",
    "\n",
    "with tf.name_scope(\"discriminator_loss\"):\n",
    "    d_true_prob = discriminator(X)\n",
    "    d_loss = -tf.reduce_mean(tf.log(d_true_prob) + tf.log(1. - d_fake_prob))\n"
   ]
  },
  {
   "cell_type": "markdown",
   "metadata": {},
   "source": [
    "#### Geting the trainable variables for generator and the discriminator (disadvantage of using layers API)\n",
    "\n",
    "Since we dont want to obtimize the discriminator when training de generator and vice-versa"
   ]
  },
  {
   "cell_type": "code",
   "execution_count": null,
   "metadata": {},
   "outputs": [
    {
     "name": "stdout",
     "output_type": "stream",
     "text": [
      "[<tf.Variable 'g_hidden1/kernel:0' shape=(100, 128) dtype=float32_ref>, <tf.Variable 'g_hidden1/bias:0' shape=(128,) dtype=float32_ref>, <tf.Variable 'g_output/kernel:0' shape=(128, 784) dtype=float32_ref>, <tf.Variable 'g_output/bias:0' shape=(784,) dtype=float32_ref>]\n",
      "[<tf.Variable 'd_hidden1/kernel:0' shape=(784, 128) dtype=float32_ref>, <tf.Variable 'd_hidden1/bias:0' shape=(128,) dtype=float32_ref>, <tf.Variable 'd_output/kernel:0' shape=(128, 1) dtype=float32_ref>, <tf.Variable 'd_output/bias:0' shape=(1,) dtype=float32_ref>]\n"
     ]
    }
   ],
   "source": [
    "#\n",
    "generator_variables = [var for var in tf.trainable_variables() if 'g_' in var.name]\n",
    "discriminator_variables = [var for var in tf.trainable_variables() if 'd_' in var.name]\n",
    "\n",
    "# kernel = weight\n",
    "print(generator_variables)\n",
    "print(discriminator_variables)\n",
    "\n"
   ]
  },
  {
   "cell_type": "markdown",
   "metadata": {
    "collapsed": true
   },
   "source": [
    "### Training Algorithm\n"
   ]
  },
  {
   "cell_type": "code",
   "execution_count": null,
   "metadata": {},
   "outputs": [
    {
     "name": "stdout",
     "output_type": "stream",
     "text": [
      "Epoach 0\n",
      "Discriminator loss:  1.92747\n",
      "Generator loss: 2.2636\n"
     ]
    },
    {
     "data": {
      "image/png": "[encoded data removed]",
      "text/plain": [
       "<matplotlib.figure.Figure at 0x1af0d7a6908>"
      ]
     },
     "metadata": {},
     "output_type": "display_data"
    },
    {
     "name": "stdout",
     "output_type": "stream",
     "text": [
      "Epoach 1000\n",
      "Discriminator loss:  0.0293978\n",
      "Generator loss: 6.13019\n"
     ]
    },
    {
     "data": {
      "image/png": "[encoded data removed]",
      "text/plain": [
       "<matplotlib.figure.Figure at 0x1af1f536198>"
      ]
     },
     "metadata": {},
     "output_type": "display_data"
    }
   ],
   "source": [
    "lr=0.001\n",
    "with tf.name_scope(\"discriminator_train\"):\n",
    "    d_optimizer = tf.train.AdamOptimizer(learning_rate=lr)\n",
    "    d_train_op = d_optimizer.minimize(d_loss, var_list=discriminator_variables) # note minimizing negative loss is the same as maximizing, tf dont have maximizing\n",
    "\n",
    "with tf.name_scope(\"generator_train\"):\n",
    "    g_optimizer = tf.train.AdamOptimizer(learning_rate=lr)\n",
    "    g_train_op = g_optimizer.minimize(g_loss,var_list=generator_variables)\n",
    "\n",
    "\n",
    "def random_Z(m, n=100):\n",
    "    '''\n",
    "    Random values for Z between -1 and 1\n",
    "    \n",
    "    :param m: number of samples\n",
    "    :param n: dimension of Z\n",
    "    :return: Vector with shape (m,n)\n",
    "    '''\n",
    "    return np.random.uniform(-1., 1., size=[m, n])\n",
    "\n",
    "## Start graph computations and algorithm\n",
    "\n",
    "\n",
    "batch_size = 100\n",
    "epoach = 1000000\n",
    "\n",
    "sess = tf.Session()\n",
    "sess.run(tf.global_variables_initializer())\n",
    "\n",
    "for i in range(epoach):\n",
    "    x_train,y_train = mnist.train.next_batch(batch_size)\n",
    "\n",
    "    #first discriminator\n",
    "    _, d_loss_value,d_sample = sess.run([d_train_op, d_loss, generated_sample], feed_dict={X: x_train, Z: random_Z(batch_size)})\n",
    "    #second generator\n",
    "    _, g_loss_value,g_sample = sess.run([g_train_op, g_loss,generated_sample], feed_dict={Z: random_Z(batch_size)})\n",
    "\n",
    "    if i%1000 == 0:\n",
    "        print(\"Epoach\",i)\n",
    "        print(\"Discriminator loss: \",d_loss_value)\n",
    "        print(\"Generator loss:\",g_loss_value)\n",
    "        #print(\"D_sample\",d_sample)\n",
    "        #print(\"G_sample\",g_sample)\n",
    "        z_new = random_Z(9)\n",
    "\n",
    "        generated_images = generated_sample.eval(session=sess,feed_dict={Z: z_new})\n",
    "        ut.plot_mnist_images(generated_images,cls_true=[0]*9)\n",
    "\n",
    "##After the otimization lets generate some numbers :D \n",
    "\n",
    "z_new = random_Z(9)\n",
    "\n",
    "generated_images = generated_sample.eval(session=sess,feed_dict={Z: z_new})\n",
    "\n",
    "\n",
    "#ut.plot_mnist_images(generated_images,cls_true=[0]*9)\n"
   ]
  },
  {
   "cell_type": "code",
   "execution_count": null,
   "metadata": {},
   "outputs": [],
   "source": [
    "\n",
    "\n",
    "#generated_images = generated_sample.eval(session=sess,feed_dict={Z: z_new})\n",
    "print(generated_images)\n",
    "ut.plot_mnist_images(generated_images,cls_true=[0]*9)\n"
   ]
  },
  {
   "cell_type": "code",
   "execution_count": null,
   "metadata": {
    "collapsed": true
   },
   "outputs": [],
   "source": []
  }
 ],
 "metadata": {
  "kernelspec": {
   "display_name": "Python 3",
   "language": "python",
   "name": "python3"
  },
  "language_info": {
   "codemirror_mode": {
    "name": "ipython",
    "version": 3
   },
   "file_extension": ".py",
   "mimetype": "text/x-python",
   "name": "python",
   "nbconvert_exporter": "python",
   "pygments_lexer": "ipython3",
   "version": "3.6.3"
  }
 },
 "nbformat": 4,
 "nbformat_minor": 2
}
