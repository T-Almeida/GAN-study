{
 "cells": [
  {
   "cell_type": "markdown",
   "metadata": {},
   "source": [
    "# Semi Supervised Deep Convolution Generative Advarsarial Network\n",
    "\n",
    "Here is presented the implementation of the following parper https://arxiv.org/abs/1606.03498\n",
    "\n",
    "Implementation is done in tensorflow using layers API\n",
    "\n",
    "Created by: Tiago Almeida 12/02/2018\n"
   ]
  },
  {
   "cell_type": "code",
   "execution_count": 1,
   "metadata": {},
   "outputs": [
    {
     "data": {
      "text/plain": [
       "'1.4.0'"
      ]
     },
     "execution_count": 1,
     "metadata": {},
     "output_type": "execute_result"
    }
   ],
   "source": [
    "##### imports\n",
    "import tensorflow as tf\n",
    "%matplotlib inline\n",
    "import matplotlib.pyplot as plt\n",
    "import tensorflow as tf\n",
    "import numpy as np\n",
    "import os\n",
    "import utils as ut # auxiliar file to help in data visualization\n",
    "\n",
    "#tensorflow version when notebook was created - 1.4.0\n",
    "tf.__version__\n"
   ]
  },
  {
   "cell_type": "markdown",
   "metadata": {},
   "source": [
    "### Data mnist"
   ]
  },
  {
   "cell_type": "code",
   "execution_count": 2,
   "metadata": {},
   "outputs": [
    {
     "name": "stdout",
     "output_type": "stream",
     "text": [
      "Extracting ./data\\train-images-idx3-ubyte.gz\n",
      "Extracting ./data\\train-labels-idx1-ubyte.gz\n",
      "Extracting ./data\\t10k-images-idx3-ubyte.gz\n",
      "Extracting ./data\\t10k-labels-idx1-ubyte.gz\n"
     ]
    },
    {
     "data": {
      "image/png": "[encoded data removed]",
      "text/plain": [
       "<matplotlib.figure.Figure at 0x17c16f4fd30>"
      ]
     },
     "metadata": {},
     "output_type": "display_data"
    }
   ],
   "source": [
    "mnist_flat_size = 784\n",
    "\n",
    "#mnist data\n",
    "from tensorflow.examples.tutorials.mnist import input_data\n",
    "mnist = input_data.read_data_sets(\"./data\",one_hot=True)\n",
    "\n",
    "\n",
    "ut.plot_mnist_images(mnist.test.images[0:9])"
   ]
  },
  {
   "cell_type": "markdown",
   "metadata": {},
   "source": [
    "### Code parameters\n",
    "\n",
    "For the architecture of the generator and the discriminator i am gonna try keep loyal to the network on the paper.\n",
    "\n"
   ]
  },
  {
   "cell_type": "code",
   "execution_count": 3,
   "metadata": {
    "collapsed": true
   },
   "outputs": [],
   "source": [
    "z_dimention = 100\n",
    "mnist_flat_size = 784\n",
    "\n",
    "batch_size = 64\n",
    "epoach = 10000"
   ]
  },
  {
   "cell_type": "markdown",
   "metadata": {},
   "source": [
    "### Generator network\n",
    "\n",
    "* 2 Deconvolution layers\n",
    "* No pooling layers\n",
    "* Batch normalization after convolution and before activation\n",
    "* Relu and tanh for output \n",
    "\n",
    "Note: I want that my final image have dimention $28 = 7\\times2\\times2$, so i can start with 7x7 image and upscale it by deconvolutions operations (with stride 2x2 and padding the image with zeros) the result would be a image with 14x14 and doing the same upscaling i get the final image with the size 28x28 (same as mnist :D)"
   ]
  },
  {
   "cell_type": "code",
   "execution_count": 4,
   "metadata": {},
   "outputs": [],
   "source": [
    "\n",
    "\n",
    "Z = tf.placeholder(tf.float32, shape=[None, z_dimention], name='x_generator_input')\n",
    "Y = tf.placeholder(tf.float32, shape=[None, 10], name='label_oneHot')\n",
    "isTraining = tf.placeholder_with_default(False, shape=(), name='trainingPhase')\n",
    "\n",
    "def generator(x,train,name):\n",
    "    '''\n",
    "    Generator implemented as MLP\n",
    "    \n",
    "    :param x: tensor with shape (M,100) here M = number of samples\n",
    "    :param train: boolean tensor with indication if we are training or not\n",
    "    :return: tensor with shape (M,28,28,1) corresponding to the image (28x28) mapping between x and data distribution (pData)\n",
    "    '''\n",
    "    with tf.variable_scope(\"generator\",reuse=tf.AUTO_REUSE):\n",
    "        \n",
    "        # 1 fully connected layer to get 7x7x64 output (3136)\n",
    "        fc1 = tf.layers.dense(x, 7*7*64,name=\"fc1_\"+name)\n",
    "        fc1_bn = tf.layers.batch_normalization(fc1, training=train, name=\"fc1_bn_\"+name)\n",
    "        fc_relu1 = tf.nn.relu(fc1_bn,name=\"fc1_fn_\"+name)\n",
    "        \n",
    "        #reshape\n",
    "        r = tf.reshape(fc_relu1, [-1, 7, 7, 64])\n",
    "        \n",
    "        # 1 deconv 64 filters output 14x14x32\n",
    "        deconv1 = tf.layers.conv2d_transpose(r, 64, kernel_size=(5, 5), strides=(2, 2)\n",
    "                                             ,padding='same',name=\"dconv1_\"+name)\n",
    "        deconv1_bn = tf.layers.batch_normalization(deconv1, training=train,name=\"dconv1_bn_\"+name)\n",
    "        dc_relu2 = tf.nn.relu(deconv1_bn,name=\"dconv1_fn_\"+name)\n",
    "\n",
    "        # 2 deconv 1 filters and output 28x28x1\n",
    "        deconv2 = tf.layers.conv2d_transpose(dc_relu2, 1, kernel_size=(5, 5), strides=(2, 2),padding='same'\n",
    "                                             ,name=\"dconv2_\"+name, activation=tf.nn.tanh)\n",
    "\n",
    "        return deconv2\n",
    "\n"
   ]
  },
  {
   "cell_type": "markdown",
   "metadata": {},
   "source": [
    "### Discriminator Network\n",
    "\n",
    "* 2 Deconvolution layers\n",
    "* No pooling layers\n",
    "* Batch normalization after convolution and before activation\n",
    "* Leaky relu (alpha 0.2 tensorflow default)\n",
    "\n",
    "Kernel and stride size are the same as the generator"
   ]
  },
  {
   "cell_type": "code",
   "execution_count": 5,
   "metadata": {
    "collapsed": true
   },
   "outputs": [],
   "source": [
    "\n",
    "X = tf.placeholder(tf.float32, shape=[None, mnist_flat_size], name='x_discriminator_input')\n",
    "\n",
    "def discriminator(x,train,name,drop_rate=0.5):\n",
    "    '''\n",
    "    Discriminator implemented as MLP\n",
    "    \n",
    "    :param x: tensor with shape (M,784) here M = number of samples\n",
    "    :return: tensor with shape (M,1) corresponding to the probability of each sample being true or fake\n",
    "    '''\n",
    "    with tf.variable_scope(\"discriminator\",reuse=tf.AUTO_REUSE):\n",
    "        \n",
    "        #reshape\n",
    "        r = tf.reshape(x, [-1, 28, 28, 1])\n",
    "        \n",
    "        # 1 conv 64 filters output 14x14x32\n",
    "        conv1 = tf.layers.conv2d(r, 64, kernel_size=(5, 5), strides=(2, 2)\n",
    "                                             ,padding='same',name=\"conv1_\"+name)\n",
    "        conv1_bn = tf.layers.batch_normalization(conv1, training=train, name=\"conv1_bn_\"+name)\n",
    "        c_lrelu1 = tf.nn.leaky_relu(conv1_bn,name=\"conv1_fn_\"+name)\n",
    "        \n",
    "        # 2 conv 32 filters and output 7x7x32\n",
    "        conv2 = tf.layers.conv2d(c_lrelu1, 32, kernel_size=(5, 5), strides=(2, 2),padding='same'\n",
    "                                             ,name=\"conv2_\"+name)\n",
    "        conv2_bn = tf.layers.batch_normalization(conv2, training=train, name=\"conv2_bn_\"+name)\n",
    "        c_lrelu2 = tf.nn.leaky_relu(conv2_bn, name=\"conv2_fn_\"+name)\n",
    "        \n",
    "        #flatten\n",
    "        flatten = tf.layers.flatten(c_lrelu2)\n",
    "        \n",
    "        fc1 = tf.layers.dense(flatten, 7*7*32,name=\"fc1_\"+name,activation=tf.nn.leaky_relu)\n",
    "        fc1_drop = tf.layers.dropout(fc1,rate = drop_rate, training=train)\n",
    "        \n",
    "        fc2 = tf.layers.dense(fc1_drop, 256,name=\"fc2_\"+name,activation=tf.nn.leaky_relu)\n",
    "        fc2_drop = tf.layers.dropout(fc2,rate = drop_rate, training=train)\n",
    "        \n",
    "        #11 class 10 label + 1 fake\n",
    "        fc3 = tf.layers.dense(fc2_drop, 11,name=\"fc3_\"+name, activation=None)\n",
    "        \n",
    "        prob_fc3 = tf.nn.softmax(fc3)\n",
    "        \n",
    "        return prob_fc3,fc3\n",
    "\n",
    "    "
   ]
  },
  {
   "cell_type": "markdown",
   "metadata": {},
   "source": [
    "### Loss functions\n",
    "\n",
    "I am using the loss function presented here: https://github.com/gitlimlab/SSGAN-Tensorflow (still not fully understand)"
   ]
  },
  {
   "cell_type": "code",
   "execution_count": 6,
   "metadata": {},
   "outputs": [
    {
     "name": "stdout",
     "output_type": "stream",
     "text": [
      "Tensor(\"discriminator_1/fc3_d_/BiasAdd:0\", shape=(?, 11), dtype=float32)\n",
      "Tensor(\"discriminator/fc3_d_/BiasAdd:0\", shape=(?, 11), dtype=float32)\n",
      "Tensor(\"generator/dconv2_g_/Tanh:0\", shape=(?, 28, 28, 1), dtype=float32)\n"
     ]
    }
   ],
   "source": [
    "#using now the xentropy (TODO use the default)\n",
    "generated_sample = generator(Z,isTraining,\"g_\")\n",
    "d_fake_prob, d_fake_logits = discriminator(generated_sample,isTraining,\"d_\")\n",
    "\n",
    "#normalize between -1 1, perhaps more effecient to cache the results or pre process\n",
    "X_tanh_normalize = (X-0.5)*2\n",
    "d_true_prob, d_true_logits = discriminator(X_tanh_normalize,isTraining,\"d_\")\n",
    "\n",
    "alternative_loss = True\n",
    "\n",
    "print(d_true_logits)\n",
    "print(d_fake_logits)\n",
    "print(generated_sample)\n",
    "#try avoid log(0)\n",
    "eps = 1e-8\n",
    "\n",
    "def xentropy_sigmoid(logits,labels):\n",
    "    return tf.reduce_mean(tf.nn.sigmoid_cross_entropy_with_logits(logits=logits, labels=labels))\n",
    "\n",
    "def huber_loss(labels, predictions, delta=1.0):\n",
    "    residual = tf.abs(predictions - labels)\n",
    "    condition = tf.less(residual, delta)\n",
    "    small_res = 0.5 * tf.square(residual)\n",
    "    large_res = delta * residual - 0.5 * tf.square(delta)\n",
    "    return tf.where(condition, small_res, large_res)\n",
    "\n",
    "n=10\n",
    "alpha = 0.9\n",
    "real_label = tf.concat([Y, tf.zeros([batch_size, 1])], axis=1)\n",
    "fake_label = tf.concat([(1-alpha)*tf.ones([batch_size, n])/n, alpha*tf.ones([batch_size, 1])], axis=1)\n",
    "\n",
    "with tf.name_scope(\"discriminator_loss\"):\n",
    "    d_loss_real = tf.nn.softmax_cross_entropy_with_logits(logits=d_true_logits, labels=real_label)\n",
    "    d_loss_fake = tf.nn.softmax_cross_entropy_with_logits(logits=d_fake_logits, labels=fake_label)\n",
    "    d_loss = tf.reduce_mean(d_loss_real + d_loss_fake)\n",
    "\n",
    "\n",
    "with tf.name_scope(\"generator_loss\"):\n",
    "    # Generator loss\n",
    "    g_loss = tf.reduce_mean(tf.log(d_fake_prob[:, -1]))\n",
    "    g_loss += tf.reduce_mean(huber_loss(tf.reshape(X,[-1,28,28,1]), generated_sample)) \n",
    "    \n",
    "    "
   ]
  },
  {
   "cell_type": "markdown",
   "metadata": {},
   "source": [
    "### Geting the trainable variables for generator and the discriminator (disadvantage of using layers API)"
   ]
  },
  {
   "cell_type": "code",
   "execution_count": 7,
   "metadata": {},
   "outputs": [
    {
     "name": "stdout",
     "output_type": "stream",
     "text": [
      "[<tf.Variable 'generator/fc1_g_/kernel:0' shape=(100, 3136) dtype=float32_ref>, <tf.Variable 'generator/fc1_g_/bias:0' shape=(3136,) dtype=float32_ref>, <tf.Variable 'generator/fc1_bn_g_/gamma:0' shape=(3136,) dtype=float32_ref>, <tf.Variable 'generator/fc1_bn_g_/beta:0' shape=(3136,) dtype=float32_ref>, <tf.Variable 'generator/dconv1_g_/kernel:0' shape=(5, 5, 64, 64) dtype=float32_ref>, <tf.Variable 'generator/dconv1_g_/bias:0' shape=(64,) dtype=float32_ref>, <tf.Variable 'generator/dconv1_bn_g_/gamma:0' shape=(64,) dtype=float32_ref>, <tf.Variable 'generator/dconv1_bn_g_/beta:0' shape=(64,) dtype=float32_ref>, <tf.Variable 'generator/dconv2_g_/kernel:0' shape=(5, 5, 1, 64) dtype=float32_ref>, <tf.Variable 'generator/dconv2_g_/bias:0' shape=(1,) dtype=float32_ref>]\n",
      "[<tf.Variable 'discriminator/conv1_d_/kernel:0' shape=(5, 5, 1, 64) dtype=float32_ref>, <tf.Variable 'discriminator/conv1_d_/bias:0' shape=(64,) dtype=float32_ref>, <tf.Variable 'discriminator/conv1_bn_d_/gamma:0' shape=(64,) dtype=float32_ref>, <tf.Variable 'discriminator/conv1_bn_d_/beta:0' shape=(64,) dtype=float32_ref>, <tf.Variable 'discriminator/conv2_d_/kernel:0' shape=(5, 5, 64, 32) dtype=float32_ref>, <tf.Variable 'discriminator/conv2_d_/bias:0' shape=(32,) dtype=float32_ref>, <tf.Variable 'discriminator/conv2_bn_d_/gamma:0' shape=(32,) dtype=float32_ref>, <tf.Variable 'discriminator/conv2_bn_d_/beta:0' shape=(32,) dtype=float32_ref>, <tf.Variable 'discriminator/fc1_d_/kernel:0' shape=(1568, 1568) dtype=float32_ref>, <tf.Variable 'discriminator/fc1_d_/bias:0' shape=(1568,) dtype=float32_ref>, <tf.Variable 'discriminator/fc2_d_/kernel:0' shape=(1568, 256) dtype=float32_ref>, <tf.Variable 'discriminator/fc2_d_/bias:0' shape=(256,) dtype=float32_ref>, <tf.Variable 'discriminator/fc3_d_/kernel:0' shape=(256, 11) dtype=float32_ref>, <tf.Variable 'discriminator/fc3_d_/bias:0' shape=(11,) dtype=float32_ref>]\n"
     ]
    }
   ],
   "source": [
    "generator_variables = [var for var in tf.trainable_variables() if 'g_' in var.name]\n",
    "discriminator_variables = [var for var in tf.trainable_variables() if 'd_' in var.name]\n",
    "\n",
    "# kernel = weight\n",
    "print(generator_variables)\n",
    "print(discriminator_variables)"
   ]
  },
  {
   "cell_type": "markdown",
   "metadata": {},
   "source": [
    "### Train"
   ]
  },
  {
   "cell_type": "code",
   "execution_count": 8,
   "metadata": {},
   "outputs": [
    {
     "name": "stdout",
     "output_type": "stream",
     "text": [
      "Epoach 0\n",
      "Discriminator loss:  6.48974\n",
      "Generator loss: -2.12132\n",
      "(9, 100)\n"
     ]
    },
    {
     "data": {
      "image/png": "[encoded data removed]",
      "text/plain": [
       "<matplotlib.figure.Figure at 0x17c1b2603c8>"
      ]
     },
     "metadata": {},
     "output_type": "display_data"
    },
    {
     "name": "stdout",
     "output_type": "stream",
     "text": [
      "Epoach 500\n",
      "Discriminator loss:  1.10983\n",
      "Generator loss: 0.200241\n",
      "(9, 100)\n"
     ]
    },
    {
     "data": {
      "image/png": "[encoded data removed]",
      "text/plain": [
       "<matplotlib.figure.Figure at 0x17c20163e10>"
      ]
     },
     "metadata": {},
     "output_type": "display_data"
    },
    {
     "ename": "KeyboardInterrupt",
     "evalue": "",
     "output_type": "error",
     "traceback": [
      "\u001b[1;31m---------------------------------------------------------------------------\u001b[0m",
      "\u001b[1;31mKeyboardInterrupt\u001b[0m                         Traceback (most recent call last)",
      "\u001b[1;32m<ipython-input-8-51dd3388392f>\u001b[0m in \u001b[0;36m<module>\u001b[1;34m()\u001b[0m\n\u001b[0;32m     21\u001b[0m     \u001b[0m_\u001b[0m\u001b[1;33m,\u001b[0m \u001b[0md_loss_value\u001b[0m \u001b[1;33m=\u001b[0m \u001b[0msess\u001b[0m\u001b[1;33m.\u001b[0m\u001b[0mrun\u001b[0m\u001b[1;33m(\u001b[0m\u001b[1;33m[\u001b[0m\u001b[0md_train_op\u001b[0m\u001b[1;33m,\u001b[0m \u001b[0md_loss\u001b[0m\u001b[1;33m]\u001b[0m\u001b[1;33m,\u001b[0m \u001b[0mfeed_dict\u001b[0m\u001b[1;33m=\u001b[0m\u001b[1;33m{\u001b[0m\u001b[0mX\u001b[0m\u001b[1;33m:\u001b[0m \u001b[0mx_train\u001b[0m \u001b[1;33m,\u001b[0m\u001b[0mY\u001b[0m\u001b[1;33m:\u001b[0m\u001b[0my_train\u001b[0m \u001b[1;33m,\u001b[0m \u001b[0mZ\u001b[0m\u001b[1;33m:\u001b[0m \u001b[0mut\u001b[0m\u001b[1;33m.\u001b[0m\u001b[0mrandom_Z\u001b[0m\u001b[1;33m(\u001b[0m\u001b[0mbatch_size\u001b[0m\u001b[1;33m,\u001b[0m\u001b[0mn\u001b[0m\u001b[1;33m=\u001b[0m\u001b[0mz_dimention\u001b[0m\u001b[1;33m)\u001b[0m\u001b[1;33m,\u001b[0m \u001b[0misTraining\u001b[0m\u001b[1;33m:\u001b[0m\u001b[1;32mTrue\u001b[0m\u001b[1;33m}\u001b[0m\u001b[1;33m)\u001b[0m\u001b[1;33m\u001b[0m\u001b[0m\n\u001b[0;32m     22\u001b[0m     \u001b[1;31m#second generator\u001b[0m\u001b[1;33m\u001b[0m\u001b[1;33m\u001b[0m\u001b[0m\n\u001b[1;32m---> 23\u001b[1;33m     \u001b[0m_\u001b[0m\u001b[1;33m,\u001b[0m \u001b[0mg_loss_value\u001b[0m \u001b[1;33m=\u001b[0m \u001b[0msess\u001b[0m\u001b[1;33m.\u001b[0m\u001b[0mrun\u001b[0m\u001b[1;33m(\u001b[0m\u001b[1;33m[\u001b[0m\u001b[0mg_train_op\u001b[0m\u001b[1;33m,\u001b[0m \u001b[0mg_loss\u001b[0m\u001b[1;33m]\u001b[0m\u001b[1;33m,\u001b[0m \u001b[0mfeed_dict\u001b[0m\u001b[1;33m=\u001b[0m\u001b[1;33m{\u001b[0m\u001b[0mX\u001b[0m\u001b[1;33m:\u001b[0m \u001b[0mx_train\u001b[0m\u001b[1;33m,\u001b[0m \u001b[0mY\u001b[0m\u001b[1;33m:\u001b[0m \u001b[0my_train\u001b[0m\u001b[1;33m,\u001b[0m \u001b[0mZ\u001b[0m\u001b[1;33m:\u001b[0m \u001b[0mut\u001b[0m\u001b[1;33m.\u001b[0m\u001b[0mrandom_Z\u001b[0m\u001b[1;33m(\u001b[0m\u001b[0mbatch_size\u001b[0m\u001b[1;33m,\u001b[0m\u001b[0mn\u001b[0m\u001b[1;33m=\u001b[0m\u001b[0mz_dimention\u001b[0m\u001b[1;33m)\u001b[0m\u001b[1;33m,\u001b[0m \u001b[0misTraining\u001b[0m\u001b[1;33m:\u001b[0m\u001b[1;32mTrue\u001b[0m\u001b[1;33m}\u001b[0m\u001b[1;33m)\u001b[0m\u001b[1;33m\u001b[0m\u001b[0m\n\u001b[0m\u001b[0;32m     24\u001b[0m \u001b[1;33m\u001b[0m\u001b[0m\n\u001b[0;32m     25\u001b[0m     \u001b[1;32mif\u001b[0m \u001b[0mi\u001b[0m\u001b[1;33m%\u001b[0m\u001b[1;36m500\u001b[0m \u001b[1;33m==\u001b[0m \u001b[1;36m0\u001b[0m\u001b[1;33m:\u001b[0m\u001b[1;33m\u001b[0m\u001b[0m\n",
      "\u001b[1;32m~\\Anaconda3\\envs\\tf-gpu\\lib\\site-packages\\tensorflow\\python\\client\\session.py\u001b[0m in \u001b[0;36mrun\u001b[1;34m(self, fetches, feed_dict, options, run_metadata)\u001b[0m\n\u001b[0;32m    887\u001b[0m     \u001b[1;32mtry\u001b[0m\u001b[1;33m:\u001b[0m\u001b[1;33m\u001b[0m\u001b[0m\n\u001b[0;32m    888\u001b[0m       result = self._run(None, fetches, feed_dict, options_ptr,\n\u001b[1;32m--> 889\u001b[1;33m                          run_metadata_ptr)\n\u001b[0m\u001b[0;32m    890\u001b[0m       \u001b[1;32mif\u001b[0m \u001b[0mrun_metadata\u001b[0m\u001b[1;33m:\u001b[0m\u001b[1;33m\u001b[0m\u001b[0m\n\u001b[0;32m    891\u001b[0m         \u001b[0mproto_data\u001b[0m \u001b[1;33m=\u001b[0m \u001b[0mtf_session\u001b[0m\u001b[1;33m.\u001b[0m\u001b[0mTF_GetBuffer\u001b[0m\u001b[1;33m(\u001b[0m\u001b[0mrun_metadata_ptr\u001b[0m\u001b[1;33m)\u001b[0m\u001b[1;33m\u001b[0m\u001b[0m\n",
      "\u001b[1;32m~\\Anaconda3\\envs\\tf-gpu\\lib\\site-packages\\tensorflow\\python\\client\\session.py\u001b[0m in \u001b[0;36m_run\u001b[1;34m(self, handle, fetches, feed_dict, options, run_metadata)\u001b[0m\n\u001b[0;32m   1118\u001b[0m     \u001b[1;32mif\u001b[0m \u001b[0mfinal_fetches\u001b[0m \u001b[1;32mor\u001b[0m \u001b[0mfinal_targets\u001b[0m \u001b[1;32mor\u001b[0m \u001b[1;33m(\u001b[0m\u001b[0mhandle\u001b[0m \u001b[1;32mand\u001b[0m \u001b[0mfeed_dict_tensor\u001b[0m\u001b[1;33m)\u001b[0m\u001b[1;33m:\u001b[0m\u001b[1;33m\u001b[0m\u001b[0m\n\u001b[0;32m   1119\u001b[0m       results = self._do_run(handle, final_targets, final_fetches,\n\u001b[1;32m-> 1120\u001b[1;33m                              feed_dict_tensor, options, run_metadata)\n\u001b[0m\u001b[0;32m   1121\u001b[0m     \u001b[1;32melse\u001b[0m\u001b[1;33m:\u001b[0m\u001b[1;33m\u001b[0m\u001b[0m\n\u001b[0;32m   1122\u001b[0m       \u001b[0mresults\u001b[0m \u001b[1;33m=\u001b[0m \u001b[1;33m[\u001b[0m\u001b[1;33m]\u001b[0m\u001b[1;33m\u001b[0m\u001b[0m\n",
      "\u001b[1;32m~\\Anaconda3\\envs\\tf-gpu\\lib\\site-packages\\tensorflow\\python\\client\\session.py\u001b[0m in \u001b[0;36m_do_run\u001b[1;34m(self, handle, target_list, fetch_list, feed_dict, options, run_metadata)\u001b[0m\n\u001b[0;32m   1315\u001b[0m     \u001b[1;32mif\u001b[0m \u001b[0mhandle\u001b[0m \u001b[1;32mis\u001b[0m \u001b[1;32mNone\u001b[0m\u001b[1;33m:\u001b[0m\u001b[1;33m\u001b[0m\u001b[0m\n\u001b[0;32m   1316\u001b[0m       return self._do_call(_run_fn, self._session, feeds, fetches, targets,\n\u001b[1;32m-> 1317\u001b[1;33m                            options, run_metadata)\n\u001b[0m\u001b[0;32m   1318\u001b[0m     \u001b[1;32melse\u001b[0m\u001b[1;33m:\u001b[0m\u001b[1;33m\u001b[0m\u001b[0m\n\u001b[0;32m   1319\u001b[0m       \u001b[1;32mreturn\u001b[0m \u001b[0mself\u001b[0m\u001b[1;33m.\u001b[0m\u001b[0m_do_call\u001b[0m\u001b[1;33m(\u001b[0m\u001b[0m_prun_fn\u001b[0m\u001b[1;33m,\u001b[0m \u001b[0mself\u001b[0m\u001b[1;33m.\u001b[0m\u001b[0m_session\u001b[0m\u001b[1;33m,\u001b[0m \u001b[0mhandle\u001b[0m\u001b[1;33m,\u001b[0m \u001b[0mfeeds\u001b[0m\u001b[1;33m,\u001b[0m \u001b[0mfetches\u001b[0m\u001b[1;33m)\u001b[0m\u001b[1;33m\u001b[0m\u001b[0m\n",
      "\u001b[1;32m~\\Anaconda3\\envs\\tf-gpu\\lib\\site-packages\\tensorflow\\python\\client\\session.py\u001b[0m in \u001b[0;36m_do_call\u001b[1;34m(self, fn, *args)\u001b[0m\n\u001b[0;32m   1321\u001b[0m   \u001b[1;32mdef\u001b[0m \u001b[0m_do_call\u001b[0m\u001b[1;33m(\u001b[0m\u001b[0mself\u001b[0m\u001b[1;33m,\u001b[0m \u001b[0mfn\u001b[0m\u001b[1;33m,\u001b[0m \u001b[1;33m*\u001b[0m\u001b[0margs\u001b[0m\u001b[1;33m)\u001b[0m\u001b[1;33m:\u001b[0m\u001b[1;33m\u001b[0m\u001b[0m\n\u001b[0;32m   1322\u001b[0m     \u001b[1;32mtry\u001b[0m\u001b[1;33m:\u001b[0m\u001b[1;33m\u001b[0m\u001b[0m\n\u001b[1;32m-> 1323\u001b[1;33m       \u001b[1;32mreturn\u001b[0m \u001b[0mfn\u001b[0m\u001b[1;33m(\u001b[0m\u001b[1;33m*\u001b[0m\u001b[0margs\u001b[0m\u001b[1;33m)\u001b[0m\u001b[1;33m\u001b[0m\u001b[0m\n\u001b[0m\u001b[0;32m   1324\u001b[0m     \u001b[1;32mexcept\u001b[0m \u001b[0merrors\u001b[0m\u001b[1;33m.\u001b[0m\u001b[0mOpError\u001b[0m \u001b[1;32mas\u001b[0m \u001b[0me\u001b[0m\u001b[1;33m:\u001b[0m\u001b[1;33m\u001b[0m\u001b[0m\n\u001b[0;32m   1325\u001b[0m       \u001b[0mmessage\u001b[0m \u001b[1;33m=\u001b[0m \u001b[0mcompat\u001b[0m\u001b[1;33m.\u001b[0m\u001b[0mas_text\u001b[0m\u001b[1;33m(\u001b[0m\u001b[0me\u001b[0m\u001b[1;33m.\u001b[0m\u001b[0mmessage\u001b[0m\u001b[1;33m)\u001b[0m\u001b[1;33m\u001b[0m\u001b[0m\n",
      "\u001b[1;32m~\\Anaconda3\\envs\\tf-gpu\\lib\\site-packages\\tensorflow\\python\\client\\session.py\u001b[0m in \u001b[0;36m_run_fn\u001b[1;34m(session, feed_dict, fetch_list, target_list, options, run_metadata)\u001b[0m\n\u001b[0;32m   1300\u001b[0m           return tf_session.TF_Run(session, options,\n\u001b[0;32m   1301\u001b[0m                                    \u001b[0mfeed_dict\u001b[0m\u001b[1;33m,\u001b[0m \u001b[0mfetch_list\u001b[0m\u001b[1;33m,\u001b[0m \u001b[0mtarget_list\u001b[0m\u001b[1;33m,\u001b[0m\u001b[1;33m\u001b[0m\u001b[0m\n\u001b[1;32m-> 1302\u001b[1;33m                                    status, run_metadata)\n\u001b[0m\u001b[0;32m   1303\u001b[0m \u001b[1;33m\u001b[0m\u001b[0m\n\u001b[0;32m   1304\u001b[0m     \u001b[1;32mdef\u001b[0m \u001b[0m_prun_fn\u001b[0m\u001b[1;33m(\u001b[0m\u001b[0msession\u001b[0m\u001b[1;33m,\u001b[0m \u001b[0mhandle\u001b[0m\u001b[1;33m,\u001b[0m \u001b[0mfeed_dict\u001b[0m\u001b[1;33m,\u001b[0m \u001b[0mfetch_list\u001b[0m\u001b[1;33m)\u001b[0m\u001b[1;33m:\u001b[0m\u001b[1;33m\u001b[0m\u001b[0m\n",
      "\u001b[1;31mKeyboardInterrupt\u001b[0m: "
     ]
    }
   ],
   "source": [
    "lr=0.001\n",
    "with tf.name_scope(\"discriminator_train\"):\n",
    "    d_optimizer = tf.train.AdamOptimizer(learning_rate=1e-4,beta1=0.1)\n",
    "    d_train_op = d_optimizer.minimize(d_loss, var_list=discriminator_variables) # note minimizing negative loss is the same as maximizing the loss, tf dont have maximizing\n",
    "\n",
    "with tf.name_scope(\"generator_train\"):\n",
    "    g_optimizer = tf.train.AdamOptimizer(learning_rate=2e-4,beta1=0.3)\n",
    "    g_train_op = g_optimizer.minimize(g_loss,var_list=generator_variables)\n",
    "\n",
    "\n",
    "## Start graph computations and algorithm\n",
    "\n",
    "sess = tf.Session()\n",
    "sess.run(tf.global_variables_initializer())\n",
    "\n",
    "for i in range(epoach+1):\n",
    "    x_train,y_train = mnist.train.next_batch(batch_size)\n",
    "    \n",
    "    #print(y_one_hot)\n",
    "    #first discriminator\n",
    "    _, d_loss_value = sess.run([d_train_op, d_loss], feed_dict={X: x_train ,Y:y_train , Z: ut.random_Z(batch_size,n=z_dimention), isTraining:True})\n",
    "    #second generator\n",
    "    _, g_loss_value = sess.run([g_train_op, g_loss], feed_dict={X: x_train, Y: y_train, Z: ut.random_Z(batch_size,n=z_dimention), isTraining:True})\n",
    "\n",
    "    if i%500 == 0:\n",
    "        print(\"Epoach\",i)\n",
    "        print(\"Discriminator loss: \",d_loss_value)\n",
    "        print(\"Generator loss:\",g_loss_value)\n",
    "        #print(\"D_sample\",d_sample)\n",
    "        #print(\"G_sample\",g_sample)\n",
    "        \n",
    "        #visual progress of training\n",
    "        \n",
    "        z_new = ut.random_Z(9,n=z_dimention)\n",
    "        print(z_new.shape)\n",
    "        generated_images = generated_sample.eval(session=sess,feed_dict={Z: z_new}).reshape((9,784))\n",
    "\n",
    "        ut.plot_mnist_images(generated_images)"
   ]
  },
  {
   "cell_type": "markdown",
   "metadata": {
    "collapsed": true
   },
   "source": [
    "### Testing the classifier"
   ]
  },
  {
   "cell_type": "code",
   "execution_count": null,
   "metadata": {
    "collapsed": true
   },
   "outputs": [],
   "source": []
  },
  {
   "cell_type": "code",
   "execution_count": null,
   "metadata": {
    "collapsed": true
   },
   "outputs": [],
   "source": [
    "sess.close()"
   ]
  },
  {
   "cell_type": "code",
   "execution_count": null,
   "metadata": {
    "collapsed": true
   },
   "outputs": [],
   "source": []
  }
 ],
 "metadata": {
  "kernelspec": {
   "display_name": "Python 3",
   "language": "python",
   "name": "python3"
  },
  "language_info": {
   "codemirror_mode": {
    "name": "ipython",
    "version": 3
   },
   "file_extension": ".py",
   "mimetype": "text/x-python",
   "name": "python",
   "nbconvert_exporter": "python",
   "pygments_lexer": "ipython3",
   "version": "3.6.3"
  }
 },
 "nbformat": 4,
 "nbformat_minor": 2
}
