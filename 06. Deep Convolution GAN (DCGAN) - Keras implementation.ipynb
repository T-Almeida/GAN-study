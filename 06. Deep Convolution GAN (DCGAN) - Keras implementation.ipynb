{
 "cells": [
  {
   "cell_type": "markdown",
   "metadata": {},
   "source": [
    "# Deep Convolution Generative Advarsarial Network \n",
    "\n",
    "Here is presented the implementation of the following parper https://arxiv.org/abs/1511.06434\n",
    "\n",
    "Implementation is done in tensorflow using KERAS API\n",
    "\n",
    "Created by: Tiago Almeida 17/08/2018"
   ]
  },
  {
   "cell_type": "code",
   "execution_count": 9,
   "metadata": {},
   "outputs": [
    {
     "data": {
      "text/plain": [
       "'1.9.0'"
      ]
     },
     "execution_count": 9,
     "metadata": {},
     "output_type": "execute_result"
    }
   ],
   "source": [
    "##Reproduceble work\n",
    "from numpy.random import seed\n",
    "seed(42)\n",
    "from tensorflow import set_random_seed\n",
    "set_random_seed(42)\n",
    "\n",
    "\n",
    "##imports\n",
    "import tensorflow as tf\n",
    "%matplotlib inline\n",
    "import matplotlib.pyplot as plt\n",
    "import tensorflow as tf\n",
    "import numpy as np\n",
    "import os\n",
    "import utils as ut # auxiliar file to help in data visualization\n",
    "import tensorflow.keras.backend as K\n",
    "#tensorflow version when notebook was created - 1.9.0\n",
    "tf.__version__\n"
   ]
  },
  {
   "cell_type": "markdown",
   "metadata": {},
   "source": [
    "### Data MNIST"
   ]
  },
  {
   "cell_type": "code",
   "execution_count": null,
   "metadata": {},
   "outputs": [],
   "source": [
    "mnist_flat_size = 784\n",
    "\n",
    "#mnist data\n",
    "\n",
    "(x_train,y_train),(x_test,y_test) = tf.keras.datasets.mnist.load_data()\n",
    "\n",
    "\n",
    "x_train = x_train.astype('float32')\n",
    "x_test = x_test.reshape([-1,mnist_flat_size]).astype('float32')\n",
    "\n",
    "#rescale the image to [-1,1] range\n",
    "x_train = x_train/ 127.5 - 1\n",
    "x_test = x_test/ 127.5 - 1\n",
    "\n",
    "#rescale the image to [0,1] range\n",
    "#x_train = x_train/ 255\n",
    "#x_test = x_test/ 255\n",
    "\n",
    "print(\"Shape of the training images\",x_train.shape)\n",
    "\n",
    "ut.plot_mnist_2dimages(x_train[0:9])\n",
    "\n",
    "#reset graph using during notebook development\n",
    "K.clear_session()\n",
    "\n"
   ]
  },
  {
   "cell_type": "markdown",
   "metadata": {
    "collapsed": true
   },
   "source": [
    "### Generator network \n",
    "In this implementation i use Functional Keras API for creating the network\n",
    "\n",
    "* 2 Deconvolution layers\n",
    "* No pooling layers\n",
    "* Batch normalization after convolution and before activation\n",
    "* Relu and tanh for output \n",
    "\n",
    "Kernel and stride size are the same as the generator\n",
    "\n",
    "Note: I want that my final image have dimention $28 = 7\\times2\\times2$, so i can start with 7x7 image and upscale it by deconvolutions operations (with stride 2x2 and padding the image with zeros) the result would be a image with 14x14 and doing the same upscaling i get the final image with the size 28x28 (same as mnist :D)\n",
    "\n",
    "TODO: analyse some problems like \"mode colapse\""
   ]
  },
  {
   "cell_type": "code",
   "execution_count": null,
   "metadata": {},
   "outputs": [],
   "source": [
    "from tensorflow.keras import Model,Input\n",
    "from tensorflow.keras.layers import Dense, BatchNormalization, Conv2DTranspose, Reshape, Activation, LeakyReLU\n",
    "\n",
    "from tensorflow.keras.optimizers import Adam\n",
    "\n",
    "#Dimention of random vector using for sampling\n",
    "z = 100\n",
    "\n",
    "g_input = Input(shape=[z], name=\"g_input\")\n",
    "H = Dense(7*7*64)(g_input)\n",
    "H = BatchNormalization()(H)\n",
    "H = Activation('relu')(H)\n",
    "H = Reshape((7,7,64))(H)\n",
    "H = Conv2DTranspose(filters=64, kernel_size=(5,5), strides=(2, 2), padding='same')(H)\n",
    "H = BatchNormalization()(H)\n",
    "H = Activation('relu')(H)\n",
    "H = Conv2DTranspose(filters=1, kernel_size=(5,5), strides=(2, 2), padding='same')(H)\n",
    "#g_output = Activation('sigmoid')(H)\n",
    "H = Activation('tanh', name=\"g_tanh\")(H)\n",
    "g_output = Reshape((28,28))(H)\n",
    "\n",
    "\n",
    "generator = Model(g_input,g_output, name=\"generator\")\n",
    "#No need to compile because he will use train with adversarial method\n",
    "generator.summary()\n"
   ]
  },
  {
   "cell_type": "markdown",
   "metadata": {},
   "source": [
    "### Discriminator network \n",
    "\n",
    "* 2 Convolution layers\n",
    "* No pooling layers\n",
    "* Batch normalization after convolution and before activation\n",
    "* Leaky relu (alpha 0.2 tensorflow default)\n",
    "\n",
    "Kernel and stride size are the same as the generator"
   ]
  },
  {
   "cell_type": "code",
   "execution_count": 4,
   "metadata": {},
   "outputs": [
    {
     "name": "stdout",
     "output_type": "stream",
     "text": [
      "_________________________________________________________________\n",
      "Layer (type)                 Output Shape              Param #   \n",
      "=================================================================\n",
      "d_input (InputLayer)         (None, 28, 28)            0         \n",
      "_________________________________________________________________\n",
      "reshape_2 (Reshape)          (None, 28, 28, 1)         0         \n",
      "_________________________________________________________________\n",
      "conv2d (Conv2D)              (None, 14, 14, 64)        1664      \n",
      "_________________________________________________________________\n",
      "batch_normalization_2 (Batch (None, 14, 14, 64)        256       \n",
      "_________________________________________________________________\n",
      "leaky_re_lu (LeakyReLU)      (None, 14, 14, 64)        0         \n",
      "_________________________________________________________________\n",
      "conv2d_1 (Conv2D)            (None, 7, 7, 32)          51232     \n",
      "_________________________________________________________________\n",
      "batch_normalization_3 (Batch (None, 7, 7, 32)          128       \n",
      "_________________________________________________________________\n",
      "leaky_re_lu_1 (LeakyReLU)    (None, 7, 7, 32)          0         \n",
      "_________________________________________________________________\n",
      "flatten (Flatten)            (None, 1568)              0         \n",
      "_________________________________________________________________\n",
      "dense_1 (Dense)              (None, 1568)              2460192   \n",
      "_________________________________________________________________\n",
      "leaky_re_lu_2 (LeakyReLU)    (None, 1568)              0         \n",
      "_________________________________________________________________\n",
      "dense_2 (Dense)              (None, 256)               401664    \n",
      "_________________________________________________________________\n",
      "leaky_re_lu_3 (LeakyReLU)    (None, 256)               0         \n",
      "_________________________________________________________________\n",
      "dense_3 (Dense)              (None, 1)                 257       \n",
      "_________________________________________________________________\n",
      "activation_2 (Activation)    (None, 1)                 0         \n",
      "=================================================================\n",
      "Total params: 2,915,393\n",
      "Trainable params: 2,915,201\n",
      "Non-trainable params: 192\n",
      "_________________________________________________________________\n"
     ]
    }
   ],
   "source": [
    "from tensorflow.keras.layers import Conv2D, Flatten, Dropout\n",
    "\n",
    "\n",
    "d_optimizer = Adam(lr=1e-4,beta_1=0.1)\n",
    "drop_rate = 0.5\n",
    "\n",
    "d_input = Input(shape=[28,28],  name=\"d_input\")\n",
    "H = Reshape((28,28,1))(d_input)\n",
    "H = Conv2D(filters=64, kernel_size=(5,5), strides=(2, 2), padding='same')(H)\n",
    "H = BatchNormalization()(H)\n",
    "H = LeakyReLU(alpha=0.2)(H)\n",
    "H = Conv2D(filters=32, kernel_size=(5,5), strides=(2, 2), padding='same')(H)\n",
    "H = BatchNormalization()(H)\n",
    "H = LeakyReLU(alpha=0.2)(H)\n",
    "H = Flatten()(H)\n",
    "H = Dense(7*7*32)(H)\n",
    "H = LeakyReLU(alpha=0.2)(H)\n",
    "#H = Dropout(drop_rate)(H)\n",
    "H = Dense(256)(H)\n",
    "H = LeakyReLU(alpha=0.2)(H)\n",
    "#H = Dropout(drop_rate)(H)\n",
    "H = Dense(1)(H)\n",
    "d_output = Activation('sigmoid')(H)\n",
    "\n",
    "\"\"\"\n",
    "d_input = Input(shape=[mnist_flat_size],  name=\"d_input\")\n",
    "H = Dense(512)(d_input)\n",
    "H = LeakyReLU(alpha=0.2)(H)\n",
    "H = Dense(128)(H)\n",
    "H = LeakyReLU(alpha=0.2)(H)\n",
    "H = Dense(1)(H)\n",
    "d_output = Activation('sigmoid')(H)\n",
    "\"\"\"\n",
    "discriminator = Model(d_input,d_output, name=\"discriminator\")\n",
    "discriminator.compile(loss='binary_crossentropy', optimizer=d_optimizer)\n",
    "discriminator.summary()\n",
    "\n"
   ]
  },
  {
   "cell_type": "code",
   "execution_count": null,
   "metadata": {},
   "outputs": [],
   "source": []
  },
  {
   "cell_type": "markdown",
   "metadata": {},
   "source": [
    "### Adversarial Model\n",
    "\n",
    "Used to train the generator"
   ]
  },
  {
   "cell_type": "code",
   "execution_count": 7,
   "metadata": {},
   "outputs": [
    {
     "name": "stdout",
     "output_type": "stream",
     "text": [
      "_________________________________________________________________\n",
      "Layer (type)                 Output Shape              Param #   \n",
      "=================================================================\n",
      "gan_z_input (InputLayer)     (None, 100)               0         \n",
      "_________________________________________________________________\n",
      "generator (Model)            (None, 28, 28)            433601    \n",
      "_________________________________________________________________\n",
      "discriminator (Model)        (None, 1)                 2915393   \n",
      "=================================================================\n",
      "Total params: 3,348,994\n",
      "Trainable params: 427,201\n",
      "Non-trainable params: 2,921,793\n",
      "_________________________________________________________________\n"
     ]
    }
   ],
   "source": [
    "\n",
    "def make_trainable(net, val=True):\n",
    "    net.trainable = val\n",
    "    for l in net.layers:\n",
    "        l.trainable = val\n",
    "\n",
    "def print_net_trainable(net):\n",
    "    print(net.name,net.trainable)\n",
    "    for l in net.layers:\n",
    "        print(l.name,l.trainable)\n",
    "        \n",
    "# Freeze weights in the discriminator for adversarial training\n",
    "#make_trainable(discriminator, False)\n",
    "discriminator.trainable = False\n",
    "gan_optimizer = Adam(lr=2e-4,beta_1=0.3)\n",
    "\n",
    "# Build stacked GAN model to train the generator\n",
    "gan_input = Input(shape=[z], name=\"gan_z_input\")\n",
    "gan_fake_samples = generator(gan_input)\n",
    "gan_output = discriminator(gan_fake_samples)\n",
    "\n",
    "gan = Model(gan_input, gan_output, name=\"generator_adversarial\")\n",
    "gan.compile(loss='binary_crossentropy', optimizer=gan_optimizer)\n",
    "gan.summary()"
   ]
  },
  {
   "cell_type": "markdown",
   "metadata": {
    "collapsed": true
   },
   "source": [
    "### Training Algorithm\n"
   ]
  },
  {
   "cell_type": "code",
   "execution_count": 8,
   "metadata": {},
   "outputs": [
    {
     "name": "stdout",
     "output_type": "stream",
     "text": [
      "discriminator False\n",
      "d_input False\n",
      "reshape_2 False\n",
      "conv2d False\n",
      "batch_normalization_2 False\n",
      "leaky_re_lu False\n",
      "conv2d_1 False\n",
      "batch_normalization_3 False\n",
      "leaky_re_lu_1 False\n",
      "flatten False\n",
      "dense_1 False\n",
      "leaky_re_lu_2 False\n",
      "dense_2 False\n",
      "leaky_re_lu_3 False\n",
      "dense_3 False\n",
      "activation_2 False\n",
      "generator_adversarial True\n",
      "gan_z_input True\n",
      "generator True\n",
      "discriminator False\n",
      "Epoach 0\r",
      "Discriminator loss:  0.024786443\n",
      "Generator loss: 0.22485897\n"
     ]
    },
    {
     "data": {
      "image/png": "[encoded data removed]",
      "text/plain": [
       "<Figure size 432x288 with 9 Axes>"
      ]
     },
     "metadata": {},
     "output_type": "display_data"
    },
    {
     "name": "stdout",
     "output_type": "stream",
     "text": [
      "discriminator False\n",
      "d_input False\n",
      "reshape_2 False\n",
      "conv2d False\n",
      "batch_normalization_2 False\n",
      "leaky_re_lu False\n",
      "conv2d_1 False\n",
      "batch_normalization_3 False\n",
      "leaky_re_lu_1 False\n",
      "flatten False\n",
      "dense_1 False\n",
      "leaky_re_lu_2 False\n",
      "dense_2 False\n",
      "leaky_re_lu_3 False\n",
      "dense_3 False\n",
      "activation_2 False\n",
      "generator_adversarial True\n",
      "gan_z_input True\n",
      "generator True\n",
      "discriminator False\n",
      "discriminator False\n",
      "d_input False\n",
      "reshape_2 False\n",
      "conv2d False\n",
      "batch_normalization_2 False\n",
      "leaky_re_lu False\n",
      "conv2d_1 False\n",
      "batch_normalization_3 False\n",
      "leaky_re_lu_1 False\n",
      "flatten False\n",
      "dense_1 False\n",
      "leaky_re_lu_2 False\n",
      "dense_2 False\n",
      "leaky_re_lu_3 False\n",
      "dense_3 False\n",
      "activation_2 False\n",
      "generator_adversarial True\n",
      "gan_z_input True\n",
      "generator True\n",
      "discriminator False\n",
      "Epoach 2\r"
     ]
    },
    {
     "ename": "KeyboardInterrupt",
     "evalue": "",
     "output_type": "error",
     "traceback": [
      "\u001b[0;31m---------------------------------------------------------------------------\u001b[0m",
      "\u001b[0;31mKeyboardInterrupt\u001b[0m                         Traceback (most recent call last)",
      "\u001b[0;32m<ipython-input-8-c56feb5d9bd4>\u001b[0m in \u001b[0;36m<module>\u001b[0;34m()\u001b[0m\n\u001b[1;32m     55\u001b[0m     \u001b[0;31m#first discriminator\u001b[0m\u001b[0;34m\u001b[0m\u001b[0;34m\u001b[0m\u001b[0m\n\u001b[1;32m     56\u001b[0m     \u001b[0mmake_trainable\u001b[0m\u001b[0;34m(\u001b[0m\u001b[0mdiscriminator\u001b[0m\u001b[0;34m,\u001b[0m\u001b[0;32mTrue\u001b[0m\u001b[0;34m)\u001b[0m\u001b[0;34m\u001b[0m\u001b[0m\n\u001b[0;32m---> 57\u001b[0;31m     \u001b[0md_loss\u001b[0m \u001b[0;34m=\u001b[0m \u001b[0mdiscriminator\u001b[0m\u001b[0;34m.\u001b[0m\u001b[0mtrain_on_batch\u001b[0m\u001b[0;34m(\u001b[0m\u001b[0md_x\u001b[0m\u001b[0;34m,\u001b[0m\u001b[0md_y\u001b[0m\u001b[0;34m)\u001b[0m\u001b[0;34m\u001b[0m\u001b[0m\n\u001b[0m\u001b[1;32m     58\u001b[0m \u001b[0;34m\u001b[0m\u001b[0m\n\u001b[1;32m     59\u001b[0m     \u001b[0;31m#second generator in adversarail faction\u001b[0m\u001b[0;34m\u001b[0m\u001b[0;34m\u001b[0m\u001b[0m\n",
      "\u001b[0;32m/usr/local/lib/python3.5/dist-packages/tensorflow/python/keras/engine/training.py\u001b[0m in \u001b[0;36mtrain_on_batch\u001b[0;34m(self, x, y, sample_weight, class_weight)\u001b[0m\n\u001b[1;32m   1535\u001b[0m \u001b[0;34m\u001b[0m\u001b[0m\n\u001b[1;32m   1536\u001b[0m       \u001b[0mself\u001b[0m\u001b[0;34m.\u001b[0m\u001b[0m_make_train_function\u001b[0m\u001b[0;34m(\u001b[0m\u001b[0;34m)\u001b[0m\u001b[0;34m\u001b[0m\u001b[0m\n\u001b[0;32m-> 1537\u001b[0;31m       \u001b[0moutputs\u001b[0m \u001b[0;34m=\u001b[0m \u001b[0mself\u001b[0m\u001b[0;34m.\u001b[0m\u001b[0mtrain_function\u001b[0m\u001b[0;34m(\u001b[0m\u001b[0mins\u001b[0m\u001b[0;34m)\u001b[0m\u001b[0;34m\u001b[0m\u001b[0m\n\u001b[0m\u001b[1;32m   1538\u001b[0m \u001b[0;34m\u001b[0m\u001b[0m\n\u001b[1;32m   1539\u001b[0m     \u001b[0;32mif\u001b[0m \u001b[0mlen\u001b[0m\u001b[0;34m(\u001b[0m\u001b[0moutputs\u001b[0m\u001b[0;34m)\u001b[0m \u001b[0;34m==\u001b[0m \u001b[0;36m1\u001b[0m\u001b[0;34m:\u001b[0m\u001b[0;34m\u001b[0m\u001b[0m\n",
      "\u001b[0;32m/usr/local/lib/python3.5/dist-packages/tensorflow/python/keras/backend.py\u001b[0m in \u001b[0;36m__call__\u001b[0;34m(self, inputs)\u001b[0m\n\u001b[1;32m   2895\u001b[0m       \u001b[0mself\u001b[0m\u001b[0;34m.\u001b[0m\u001b[0m_make_callable\u001b[0m\u001b[0;34m(\u001b[0m\u001b[0mfeed_arrays\u001b[0m\u001b[0;34m,\u001b[0m \u001b[0mfeed_symbols\u001b[0m\u001b[0;34m,\u001b[0m \u001b[0msymbol_vals\u001b[0m\u001b[0;34m,\u001b[0m \u001b[0msession\u001b[0m\u001b[0;34m)\u001b[0m\u001b[0;34m\u001b[0m\u001b[0m\n\u001b[1;32m   2896\u001b[0m \u001b[0;34m\u001b[0m\u001b[0m\n\u001b[0;32m-> 2897\u001b[0;31m     \u001b[0mfetched\u001b[0m \u001b[0;34m=\u001b[0m \u001b[0mself\u001b[0m\u001b[0;34m.\u001b[0m\u001b[0m_callable_fn\u001b[0m\u001b[0;34m(\u001b[0m\u001b[0;34m*\u001b[0m\u001b[0marray_vals\u001b[0m\u001b[0;34m)\u001b[0m\u001b[0;34m\u001b[0m\u001b[0m\n\u001b[0m\u001b[1;32m   2898\u001b[0m     \u001b[0;32mreturn\u001b[0m \u001b[0mfetched\u001b[0m\u001b[0;34m[\u001b[0m\u001b[0;34m:\u001b[0m\u001b[0mlen\u001b[0m\u001b[0;34m(\u001b[0m\u001b[0mself\u001b[0m\u001b[0;34m.\u001b[0m\u001b[0moutputs\u001b[0m\u001b[0;34m)\u001b[0m\u001b[0;34m]\u001b[0m\u001b[0;34m\u001b[0m\u001b[0m\n\u001b[1;32m   2899\u001b[0m \u001b[0;34m\u001b[0m\u001b[0m\n",
      "\u001b[0;32m/usr/local/lib/python3.5/dist-packages/tensorflow/python/client/session.py\u001b[0m in \u001b[0;36m__call__\u001b[0;34m(self, *args)\u001b[0m\n\u001b[1;32m   1449\u001b[0m         \u001b[0;32mif\u001b[0m \u001b[0mself\u001b[0m\u001b[0;34m.\u001b[0m\u001b[0m_session\u001b[0m\u001b[0;34m.\u001b[0m\u001b[0m_created_with_new_api\u001b[0m\u001b[0;34m:\u001b[0m\u001b[0;34m\u001b[0m\u001b[0m\n\u001b[1;32m   1450\u001b[0m           return tf_session.TF_SessionRunCallable(\n\u001b[0;32m-> 1451\u001b[0;31m               self._session._session, self._handle, args, status, None)\n\u001b[0m\u001b[1;32m   1452\u001b[0m         \u001b[0;32melse\u001b[0m\u001b[0;34m:\u001b[0m\u001b[0;34m\u001b[0m\u001b[0m\n\u001b[1;32m   1453\u001b[0m           return tf_session.TF_DeprecatedSessionRunCallable(\n",
      "\u001b[0;31mKeyboardInterrupt\u001b[0m: "
     ]
    }
   ],
   "source": [
    "#try shuffle the data\n",
    "from sklearn.utils import shuffle\n",
    "\n",
    "\n",
    "def random_Z(m, n=z):\n",
    "    '''\n",
    "    Random values for Z between -1 and 1\n",
    "    \n",
    "    :param m: number of samples\n",
    "    :param n: dimension of Z\n",
    "    :return: Vector with shape (m,n)\n",
    "    '''\n",
    "    return np.random.uniform(-1., 1., size=[m, n])\n",
    "\n",
    "## Start graph computations and algorithm\n",
    "\n",
    "\n",
    "batch_size = 256 #must be multiple of 2\n",
    "epoach = 75000\n",
    "\n",
    "##check summary again\n",
    "#make_trainable(discriminator,True)\n",
    "#discriminator.summary()\n",
    "#make_trainable(discriminator,False)\n",
    "#gan.summary()\n",
    "\n",
    "#save losses \n",
    "losses = {}\n",
    "losses[\"gan_loss\"] = []\n",
    "losses[\"d_loss\"] = []\n",
    "\n",
    "visualize_samples = random_Z(9)\n",
    "\n",
    "\n",
    "#make_trainable(generator,True)\n",
    "\n",
    "\n",
    "for i in range(epoach):\n",
    "    \n",
    "    #generate images\n",
    "    synthetic_images = generator.predict_on_batch(random_Z(batch_size//2))\n",
    "    #select from tranning set\n",
    "    real_images = x_train[np.random.randint(0,x_train.shape[0],size=batch_size//2),:,:]\n",
    "    \n",
    "    d_x = np.concatenate((synthetic_images, real_images))\n",
    "    d_y = np.zeros([batch_size,1])\n",
    "    \n",
    "    d_y[batch_size//2:] = 1 #second half of the batch are true images so have label 1 and fake (first half) have label 0\n",
    "        \n",
    "    #print(\"d_x shape\",d_x.shape)\n",
    "    #print(\"d_y shape\",d_y.shape)    \n",
    " \n",
    "    \n",
    "\n",
    "    #first discriminator\n",
    "    #make_trainable(discriminator,True)\n",
    "    d_loss = discriminator.train_on_batch(d_x,d_y)\n",
    "    \n",
    "    #second generator in adversarail faction\n",
    "    gan_x = random_Z(batch_size)\n",
    "    gan_y = np.ones([batch_size,1])\n",
    "    #print(\"gan_x shape\",gan_x.shape) \n",
    "    #print(\"gan_y shape\",gan_y.shape)\n",
    "    #print(gan_y)\n",
    "    #make_trainable(discriminator,False)\n",
    "    gan_loss = gan.train_on_batch(gan_x,gan_y)\n",
    "    \n",
    "    print_net_trainable(discriminator)\n",
    "    print_net_trainable(gan)\n",
    "    \n",
    "    losses[\"gan_loss\"] += [gan_loss]\n",
    "    losses[\"d_loss\"] += [d_loss]\n",
    "    \n",
    "    print(\"Epoach\",i,end='\\r')\n",
    "    \n",
    "    if i%250 == 0:\n",
    "       \n",
    "        print(\"Discriminator loss: \",d_loss)\n",
    "        print(\"Generator loss:\",gan_loss)\n",
    "\n",
    "  \n",
    "        #sample 9 images from generator\n",
    "        generated_images = generator.predict_on_batch(visualize_samples)\n",
    "        ut.plot_mnist_2dimages(generated_images)\n",
    "    \n",
    "print(\"Discriminator loss: \",d_loss)\n",
    "print(\"Generator loss:\",gan_loss)\n",
    "\n",
    "\n",
    "#sample 9 images from generator\n",
    "generated_images = generator.predict_on_batch(random_Z(9))\n",
    "ut.plot_mnist_2dimages(generated_images)\n",
    "\n",
    "print(\"\\n Plot learning curves \\n\")\n",
    "\n",
    "plt.plot(losses[\"gan_loss\"], label='generative loss')\n",
    "plt.plot(losses[\"d_loss\"], label='discriminitive loss')\n",
    "plt.legend()\n",
    "plt.show()\n"
   ]
  },
  {
   "cell_type": "code",
   "execution_count": null,
   "metadata": {},
   "outputs": [],
   "source": [
    "generated_images = generator.predict_on_batch(random_Z(9))\n",
    "\n",
    "\n",
    "print(discriminator.predict_on_batch(generated_images))"
   ]
  },
  {
   "cell_type": "markdown",
   "metadata": {
    "collapsed": true
   },
   "source": [
    "### Analysing noise Z"
   ]
  },
  {
   "cell_type": "code",
   "execution_count": 41,
   "metadata": {},
   "outputs": [
    {
     "data": {
      "image/png": "[encoded data removed]",
      "text/plain": [
       "<matplotlib.figure.Figure at 0x24d8203cf98>"
      ]
     },
     "metadata": {},
     "output_type": "display_data"
    }
   ],
   "source": [
    "\n"
   ]
  },
  {
   "cell_type": "code",
   "execution_count": null,
   "metadata": {
    "collapsed": true
   },
   "outputs": [],
   "source": []
  }
 ],
 "metadata": {
  "kernelspec": {
   "display_name": "Python 3",
   "language": "python",
   "name": "python3"
  },
  "language_info": {
   "codemirror_mode": {
    "name": "ipython",
    "version": 3
   },
   "file_extension": ".py",
   "mimetype": "text/x-python",
   "name": "python",
   "nbconvert_exporter": "python",
   "pygments_lexer": "ipython3",
   "version": "3.5.2"
  }
 },
 "nbformat": 4,
 "nbformat_minor": 2
}
